{
 "cells": [
  {
   "cell_type": "markdown",
   "id": "02ff0759-c381-499f-91da-27517f1933d3",
   "metadata": {},
   "source": [
    "## Imports"
   ]
  },
  {
   "cell_type": "code",
   "execution_count": 1,
   "id": "28218902-cfd1-446c-ac98-7c0e0576d2e7",
   "metadata": {},
   "outputs": [],
   "source": [
    "# Python imports\n",
    "import os\n",
    "import sys\n",
    "import json\n",
    "from pathlib import Path\n",
    "import gc\n",
    "import inspect\n",
    "from copy import deepcopy\n",
    "from copy import copy\n",
    "from datetime import datetime\n",
    "\n",
    "import random\n",
    "\n",
    "import numpy as np\n",
    "import pandas as pd\n",
    "import matplotlib.pyplot as plt\n",
    "from matplotlib import colors\n",
    "\n",
    "from tqdm.notebook import tqdm"
   ]
  },
  {
   "cell_type": "code",
   "execution_count": 2,
   "id": "04326262-cd68-4245-a20d-553854b0749f",
   "metadata": {},
   "outputs": [],
   "source": [
    "# Transformer imports\n",
    "from transformers import AutoTokenizer, AutoModelForCausalLM, Trainer, TrainingArguments, DataCollatorForLanguageModeling\n",
    "from trl import SFTTrainer, SFTConfig\n",
    "from datasets import Dataset\n",
    "import torch"
   ]
  },
  {
   "cell_type": "code",
   "execution_count": 3,
   "id": "298082cc-e525-4e53-b861-b3313a6b1b93",
   "metadata": {},
   "outputs": [],
   "source": [
    "# Local imports\n",
    "sys.path.insert(0, '..')\n",
    "from visualization.visualization_utils import *\n",
    "\n",
    "sys.path.insert(0, '../DSL')\n",
    "from dsl import *\n",
    "from constants import *\n",
    "from solver_class import Solver\n",
    "import solvers\n",
    "import verifiers\n",
    "import verifiers_reformatted"
   ]
  },
  {
   "cell_type": "markdown",
   "id": "f849298b-4906-415e-85c4-6eb9602a6861",
   "metadata": {},
   "source": [
    "## Hyperparameters"
   ]
  },
  {
   "cell_type": "code",
   "execution_count": 28,
   "id": "cac830af-43aa-4614-976e-a29921b8fa44",
   "metadata": {},
   "outputs": [],
   "source": [
    "NUM_TRAIN_EPOCHS = 1 # We use every re-arc pair in our training\n",
    "NUM_RE_ARC_EXAMPLES_PER_TASK_PER_EPOCH = 20 # No longer used\n",
    "MAX_SEQ_LENGTH = 1536 # 2048 is took big, OOM. Also got OOM with 1536 but only intermittently."
   ]
  },
  {
   "cell_type": "markdown",
   "id": "aa8f9af0-6b28-463b-926b-c3241a422d7b",
   "metadata": {},
   "source": [
    "## Load data"
   ]
  },
  {
   "cell_type": "code",
   "execution_count": 5,
   "id": "fe86d7b2-b843-42a6-adf8-0fb5e9a80abb",
   "metadata": {},
   "outputs": [],
   "source": [
    "data_path = Path('../data')\n",
    "train_path = data_path / 'arc-agi_training_challenges.json'\n",
    "train_sols_path = data_path / 'arc-agi_training_solutions.json'\n",
    "eval_path = data_path / 'arc-agi_evaluation_challenges.json'\n",
    "eval_sols_path = data_path / 'arc-agi_evaluation_solutions.json'\n",
    "re_arc_path = data_path / 're-arc_tasks'"
   ]
  },
  {
   "cell_type": "code",
   "execution_count": 6,
   "id": "8522c4ca-209c-4c6f-80e8-54d76a764c8b",
   "metadata": {},
   "outputs": [],
   "source": [
    "with open(train_path, 'r') as f:\n",
    "    train_tasks = json.load(f)\n",
    "with open(train_sols_path, 'r') as f:\n",
    "    train_sols = json.load(f)\n",
    "\n",
    "train_task_labels = sorted(train_tasks.keys())\n",
    "\n",
    "#with open(eval_path, 'r') as f:\n",
    "#    eval_tasks = json.load(f)\n",
    "#with open(eval_sols_path, 'r') as f:\n",
    "#    eval_sols = json.load(f)\n",
    "\n",
    "#eval_task_labels = sorted(eval_tasks.keys())"
   ]
  },
  {
   "cell_type": "code",
   "execution_count": 7,
   "id": "a7c848d9-3548-4a30-bca7-1eb29d81d7eb",
   "metadata": {},
   "outputs": [
    {
     "name": "stdout",
     "output_type": "stream",
     "text": [
      "Using cuda\n"
     ]
    }
   ],
   "source": [
    "DEVICE = 'cuda' if torch.cuda.is_available() else 'cpu'\n",
    "print(f\"Using {DEVICE}\")"
   ]
  },
  {
   "cell_type": "markdown",
   "id": "de600aea-c8fb-4da4-a578-26ee8dee1f7f",
   "metadata": {},
   "source": [
    "## Load model and tokenizer"
   ]
  },
  {
   "cell_type": "code",
   "execution_count": 8,
   "id": "5c68f39d-2ff4-4ed2-b89f-cdd67df40dfe",
   "metadata": {},
   "outputs": [],
   "source": [
    "codegen_tokenizer = AutoTokenizer.from_pretrained(\"Salesforce/codegen-350M-mono\",\n",
    "                                                 #padding_side='left', # For padding batches of input in decoder-only context\n",
    "                                                 clean_up_tokenization_spaces = True,\n",
    "                                                 )\n",
    "codegen = AutoModelForCausalLM.from_pretrained(\"Salesforce/codegen-350M-mono\")\n",
    "codegen = codegen.to(DEVICE)"
   ]
  },
  {
   "cell_type": "code",
   "execution_count": 9,
   "id": "2bcd49bd-50eb-4104-8de7-6ea2bf7fea1c",
   "metadata": {},
   "outputs": [
    {
     "data": {
      "text/plain": [
       "1"
      ]
     },
     "execution_count": 9,
     "metadata": {},
     "output_type": "execute_result"
    }
   ],
   "source": [
    "EOS_TOKEN = codegen_tokenizer.eos_token\n",
    "BOS_TOKEN = codegen_tokenizer.bos_token\n",
    "codegen_tokenizer.add_special_tokens({'pad_token': '[PAD]'})\n",
    "#codegen_tokenizer.pad_token = codegen_tokenizer.eos_token"
   ]
  },
  {
   "cell_type": "markdown",
   "id": "f740c03f-7ccf-44b1-bf59-dff54c9ddf59",
   "metadata": {},
   "source": [
    "## Create training data"
   ]
  },
  {
   "cell_type": "code",
   "execution_count": 10,
   "id": "d0763ff4-49d5-4f67-abeb-e74f329712a9",
   "metadata": {},
   "outputs": [],
   "source": [
    "# Load Hodel's solvers and verifiers.\n",
    "# Verifiers are reformatted to look the same as the solvers.\n",
    "solver_programs = {label: Solver(inspect.getsource(getattr(solvers, f\"solve_{label}\"))) for label in train_task_labels}\n",
    "verifier_programs = {label: Solver(inspect.getsource(getattr(verifiers_reformatted, f\"solve_{label}\"))) for label in train_task_labels}"
   ]
  },
  {
   "cell_type": "code",
   "execution_count": 11,
   "id": "c88f18fa-a6fd-46f5-a341-48f3b2725b1a",
   "metadata": {},
   "outputs": [],
   "source": [
    "# Set names of solvers to 'solve', i.e. remove labels\n",
    "for _, solver in solver_programs.items():\n",
    "    solver.rename('solve')\n",
    "for _, solver in verifier_programs.items():\n",
    "    solver.rename('solve')"
   ]
  },
  {
   "cell_type": "code",
   "execution_count": 13,
   "id": "0c546dbb-e9be-4ae7-ab6e-9861a057c23f",
   "metadata": {},
   "outputs": [],
   "source": [
    "# TODO: Refactor to utilities file\n",
    "\n",
    "def grid_to_string(grid):\n",
    "    \"\"\"\n",
    "    Simply converts grid to string and removes whitespace.\n",
    "    A 30-by-30 grid will use ~1800 tokens.\n",
    "    \"\"\"\n",
    "    return str(grid).replace(\" \", \"\")\n",
    "\n",
    "def grid_to_string_compact(grid):\n",
    "    \"\"\"\n",
    "    Rows as strings of characters separated by linebreaks.\n",
    "    Uses approximately 4-times fewer tokens than grid_to_string.\n",
    "    \"\"\"\n",
    "    return \"\\n\".join([\"\".join([str(entry) for entry in row]) for row in grid])"
   ]
  },
  {
   "cell_type": "code",
   "execution_count": 14,
   "id": "8943d1e9-8f5a-440f-94a1-e5a10f1e205d",
   "metadata": {},
   "outputs": [],
   "source": [
    "def get_n_random_re_arc_pairs(label: str, n: int) -> list[dict]:\n",
    "    with open(re_arc_path / f\"{label}.json\", \"r\") as f:\n",
    "        re_arc_examples = json.load(f)\n",
    "    return random.sample(re_arc_examples, n)"
   ]
  },
  {
   "cell_type": "code",
   "execution_count": 15,
   "id": "11663988-348f-4246-be22-0db6481c6e85",
   "metadata": {},
   "outputs": [],
   "source": [
    "def create_training_example(solver: Solver, in_grid, out_grid, compact = True) -> str:\n",
    "    \"\"\"\n",
    "    Adds docstring to a solver showing input/output grids.\n",
    "    \"\"\"\n",
    "    in_grid_str = grid_to_string_compact(in_grid) if compact else grid_to_string(in_grid)\n",
    "    out_grid_str = grid_to_string_compact(out_grid) if compact else grid_to_string(out_grid)\n",
    "\n",
    "    docstring = f\"\"\"\n",
    "    INPUT:\n",
    "    {in_grid_str}\n",
    "    OUTPUT:\n",
    "    {out_grid_str}\n",
    "    \"\"\"\n",
    "    solver.update_docstring(docstring)\n",
    "    \n",
    "    solver_text = str(solver).strip()\n",
    "    return solver_text + EOS_TOKEN"
   ]
  },
  {
   "cell_type": "code",
   "execution_count": 16,
   "id": "1c09a4d6-358d-4df7-9e7d-54be8b9cf7e6",
   "metadata": {},
   "outputs": [
    {
     "name": "stdout",
     "output_type": "stream",
     "text": [
      "ce602527\n",
      "\n",
      "def solve(I):\n",
      "    \"\"\"\n",
      "    INPUT:\n",
      "    11111111111111111\n",
      "    11111111111111111\n",
      "    11111111111331331\n",
      "    11122222111311131\n",
      "    11121212111333331\n",
      "    11111112111113111\n",
      "    11121212111333331\n",
      "    11122222111111111\n",
      "    11111111111111111\n",
      "    11188888888881111\n",
      "    11188888888881111\n",
      "    11188118811881111\n",
      "    11188118811881111\n",
      "    11111111111881111\n",
      "    11111111111881111\n",
      "    11188118811881111\n",
      "    11188118811881111\n",
      "    OUTPUT:\n",
      "    22222\n",
      "    21212\n",
      "    11112\n",
      "    21212\n",
      "    22222\n",
      "    \"\"\"\n",
      "    x1 = vmirror(I)\n",
      "    x2 = fgpartition(x1)\n",
      "    x3 = order(x2, size)\n",
      "    x4 = last(x3)\n",
      "    x5 = remove(x4, x3)\n",
      "    x6 = compose(toindices, normalize)\n",
      "    x7 = rbind(upscale, TWO)\n",
      "    x8 = chain(toindices, x7, normalize)\n",
      "    x9 = x6(x4)\n",
      "    x10 = rbind(intersection, x9)\n",
      "    x11 = chain(size, x10, x8)\n",
      "    x12 = argmax(x5, x11)\n",
      "    x13 = subgrid(x12, x1)\n",
      "    O = vmirror(x13)\n",
      "    return O<|endoftext|>\n"
     ]
    }
   ],
   "source": [
    "# Show an example\n",
    "l = random.choice(train_task_labels)\n",
    "print(l)\n",
    "print(\"\")\n",
    "in_grid = train_tasks[l]['train'][0]['input']\n",
    "out_grid = train_tasks[l]['train'][0]['output']\n",
    "solver = solver_programs[l]\n",
    "print(create_training_example(solver, in_grid, out_grid))"
   ]
  },
  {
   "cell_type": "code",
   "execution_count": 17,
   "id": "3849f8ef-77fb-409c-8e96-a88bea387f2b",
   "metadata": {},
   "outputs": [
    {
     "data": {
      "application/vnd.jupyter.widget-view+json": {
       "model_id": "7f0c0d4a29d04c288964500bba1ceee2",
       "version_major": 2,
       "version_minor": 0
      },
      "text/plain": [
       "  0%|          | 0/400 [00:00<?, ?it/s]"
      ]
     },
     "metadata": {},
     "output_type": "display_data"
    },
    {
     "name": "stderr",
     "output_type": "stream",
     "text": [
      "Token indices sequence length is longer than the specified maximum sequence length for this model (2059 > 2048). Running this sequence through the model will result in indexing errors\n"
     ]
    }
   ],
   "source": [
    "# Check worst case for number of tokens needed to encode an example\n",
    "max_tokens_needed = 0\n",
    "for label in tqdm(train_task_labels):\n",
    "    solver = solver_programs[label]\n",
    "    verifier = verifier_programs[label]\n",
    "    N = len(train_tasks[label]['train'])\n",
    "    M = len(train_tasks[label]['test'])\n",
    "    for i in range(N):\n",
    "        in_grid = train_tasks[label]['train'][i]['input']\n",
    "        out_grid = train_tasks[label]['train'][i]['output']\n",
    "        solver_ex = create_training_example(solver, in_grid, out_grid)\n",
    "        verifier_ex = create_training_example(verifier, in_grid, out_grid)\n",
    "        max_tokens_needed = max(max_tokens_needed, len(codegen_tokenizer.tokenize(solver_ex)))\n",
    "        max_tokens_needed = max(max_tokens_needed, len(codegen_tokenizer.tokenize(verifier_ex)))\n",
    "    for i in range(M):\n",
    "        in_grid = train_tasks[label]['test'][i]['input']\n",
    "        out_grid = train_sols[label][i]\n",
    "        solver_ex = create_training_example(solver, in_grid, out_grid)\n",
    "        verifier_ex = create_training_example(verifier, in_grid, out_grid)\n",
    "        max_tokens_needed = max(max_tokens_needed, len(codegen_tokenizer.tokenize(solver_ex)))\n",
    "        max_tokens_needed = max(max_tokens_needed, len(codegen_tokenizer.tokenize(verifier_ex)))\n",
    "    with open(re_arc_path / f\"{label}.json\") as f:\n",
    "        re_arc_pairs = json.load(f)\n",
    "        for pair in re_arc_pairs:\n",
    "            in_grid = pair['input']\n",
    "            out_grid = pair['output']\n",
    "            solver_ex = create_training_example(solver, in_grid, out_grid)\n",
    "            verifier_ex = create_training_example(verifier, in_grid, out_grid)\n",
    "            max_tokens_needed = max(max_tokens_needed, len(codegen_tokenizer.tokenize(solver_ex)))\n",
    "            max_tokens_needed = max(max_tokens_needed, len(codegen_tokenizer.tokenize(verifier_ex)))"
   ]
  },
  {
   "cell_type": "code",
   "execution_count": 18,
   "id": "ffc2736f-b587-4727-a5bb-a839bba381a8",
   "metadata": {},
   "outputs": [
    {
     "name": "stdout",
     "output_type": "stream",
     "text": [
      "Maximum number of tokens possibly needed for training examples: 2786\n"
     ]
    }
   ],
   "source": [
    "print(f\"Maximum number of tokens possibly needed for training examples: {max_tokens_needed}\")"
   ]
  },
  {
   "cell_type": "code",
   "execution_count": 31,
   "id": "a939a545-2426-4799-ae0a-d8f6f1f17849",
   "metadata": {},
   "outputs": [
    {
     "data": {
      "application/vnd.jupyter.widget-view+json": {
       "model_id": "c56475c999214a32bce668fb0bf99900",
       "version_major": 2,
       "version_minor": 0
      },
      "text/plain": [
       "  0%|          | 0/400 [00:00<?, ?it/s]"
      ]
     },
     "metadata": {},
     "output_type": "display_data"
    }
   ],
   "source": [
    "training_examples = []\n",
    "token_counts = []\n",
    "\n",
    "# TODO refactor this\n",
    "\n",
    "for label in tqdm(train_task_labels):\n",
    "    N = len(train_tasks[label]['train'])\n",
    "    M = len(train_tasks[label]['test'])\n",
    "    \n",
    "    solver = solver_programs[label]\n",
    "    verifier = verifier_programs[label]\n",
    "\n",
    "    # Create solver examples from ordinary arc tasks\n",
    "    for i in range(N):\n",
    "        in_grid = train_tasks[label]['train'][i]['input']\n",
    "        out_grid = train_tasks[label]['train'][i]['output']\n",
    "        solver_ex = create_training_example(solver, in_grid, out_grid)\n",
    "        token_count = len(codegen_tokenizer.tokenize(solver_ex))\n",
    "        if token_count > MAX_SEQ_LENGTH:\n",
    "            first_half = solver_ex[:len(solver_ex)//2]\n",
    "            second_half = solver_ex[len(solver_ex)//2:]\n",
    "            training_examples.append(first_half)\n",
    "            training_examples.append(second_half)\n",
    "        else:\n",
    "            training_examples.append(solver_ex)\n",
    "            token_counts.append(token_count)\n",
    "    for i in range(M):\n",
    "        in_grid = train_tasks[label]['test'][i]['input']\n",
    "        out_grid = train_sols[label][i]\n",
    "        solver_ex = create_training_example(solver, in_grid, out_grid)\n",
    "        token_count = len(codegen_tokenizer.tokenize(solver_ex))\n",
    "        if token_count > MAX_SEQ_LENGTH:\n",
    "            first_half = solver_ex[:len(solver_ex)//2]\n",
    "            second_half = solver_ex[len(solver_ex)//2:]\n",
    "            training_examples.append(first_half)\n",
    "            training_examples.append(second_half)\n",
    "            token_counts.append(len(codegen_tokenizer.tokenize(first_half)))\n",
    "            token_counts.append(len(codegen_tokenizer.tokenize(second_half)))\n",
    "        else:\n",
    "            training_examples.append(solver_ex)\n",
    "            token_counts.append(token_count)\n",
    "\n",
    "    # Create verifier examples from re-arc tasks\n",
    "    with open(re_arc_path / f\"{label}.json\", \"r\") as f:\n",
    "        re_arc_pairs = json.load(f)\n",
    "    for pair in re_arc_pairs:\n",
    "        in_grid = pair['input']\n",
    "        out_grid = pair['output']\n",
    "        verifier_ex = create_training_example(verifier, in_grid, out_grid)\n",
    "        token_count = len(codegen_tokenizer.tokenize(verifier_ex))\n",
    "        if token_count > MAX_SEQ_LENGTH:\n",
    "            first_half = verifier_ex[:len(verifier_ex)//2]\n",
    "            second_half = verifier_ex[len(verifier_ex)//2:]\n",
    "            training_examples.append(first_half)\n",
    "            training_examples.append(second_half)\n",
    "            token_counts.append(len(codegen_tokenizer.tokenize(first_half)))\n",
    "            token_counts.append(len(codegen_tokenizer.tokenize(second_half)))\n",
    "        else:\n",
    "            training_examples.append(verifier_ex)\n",
    "            token_counts.append(token_count)"
   ]
  },
  {
   "cell_type": "code",
   "execution_count": 32,
   "id": "dffb1348-3748-4ab6-b48e-bee52b2f5f0d",
   "metadata": {},
   "outputs": [
    {
     "name": "stdout",
     "output_type": "stream",
     "text": [
      "We have 407194 training examples, an average of 1017.985 per task.\n"
     ]
    }
   ],
   "source": [
    "print(f\"We have {len(training_examples)} training examples, an average of {len(training_examples) / 400} per task.\")"
   ]
  },
  {
   "cell_type": "code",
   "execution_count": 33,
   "id": "9adb41f1-480b-4ddb-8e44-ef1be530e9e1",
   "metadata": {},
   "outputs": [
    {
     "data": {
      "image/png": "[encoded data removed]",
      "text/plain": [
       "<Figure size 640x480 with 1 Axes>"
      ]
     },
     "metadata": {},
     "output_type": "display_data"
    },
    {
     "name": "stdout",
     "output_type": "stream",
     "text": [
      "Maximum number of tokens actually needed for training examples: 1536\n",
      "A total of 0 examples exceed 2048 tokens\n",
      "A total of 0 examples exceed 1536 tokens\n"
     ]
    }
   ],
   "source": [
    "plt.hist(token_counts, bins = 100)\n",
    "plt.show()\n",
    "print(f\"Maximum number of tokens actually needed for training examples: {max(token_counts)}\")\n",
    "print(f\"A total of {sum([count > 2048 for count in token_counts])} examples exceed 2048 tokens\")\n",
    "print(f\"A total of {sum([count > 1536 for count in token_counts])} examples exceed 1536 tokens\")"
   ]
  },
  {
   "cell_type": "code",
   "execution_count": 34,
   "id": "26f3ef2d-0621-4eda-8d2a-01251f34dee5",
   "metadata": {},
   "outputs": [],
   "source": [
    "dataset = Dataset.from_dict({'text': training_examples})"
   ]
  },
  {
   "cell_type": "markdown",
   "id": "4179c028-5b95-4215-a943-e2ddfadb0bc0",
   "metadata": {},
   "source": [
    "## Train and save"
   ]
  },
  {
   "cell_type": "code",
   "execution_count": 35,
   "id": "9f06064b-f2e8-4e39-9014-6c5b03984c30",
   "metadata": {},
   "outputs": [
    {
     "data": {
      "application/vnd.jupyter.widget-view+json": {
       "model_id": "2c0bd6bc733440b7a02916a000c53b49",
       "version_major": 2,
       "version_minor": 0
      },
      "text/plain": [
       "Map:   0%|          | 0/407194 [00:00<?, ? examples/s]"
      ]
     },
     "metadata": {},
     "output_type": "display_data"
    }
   ],
   "source": [
    "trainer = SFTTrainer(\n",
    "    model = codegen,\n",
    "    tokenizer = codegen_tokenizer,\n",
    "    train_dataset = dataset,\n",
    "    args = SFTConfig(\n",
    "        per_device_train_batch_size = 1,\n",
    "        gradient_accumulation_steps = 8,\n",
    "        dataset_text_field = \"text\",\n",
    "        max_seq_length = MAX_SEQ_LENGTH, \n",
    "        num_train_epochs = NUM_TRAIN_EPOCHS,\n",
    "        learning_rate = 2e-4,\n",
    "        fp16 = True,\n",
    "        bf16 = False,\n",
    "        logging_steps = 2000,\n",
    "        save_steps = 4000,\n",
    "        optim = \"adamw_torch\",\n",
    "        weight_decay = 0.01,\n",
    "        lr_scheduler_type = \"linear\",\n",
    "        seed = 3407,\n",
    "        output_dir = \"outputs\",\n",
    "    ),\n",
    ")"
   ]
  },
  {
   "cell_type": "code",
   "execution_count": 36,
   "id": "1fb3cca0-77fc-4584-9122-ff9c887196b9",
   "metadata": {},
   "outputs": [
    {
     "data": {
      "text/html": [
       "\n",
       "    <div>\n",
       "      \n",
       "      <progress value='50899' max='50899' style='width:300px; height:20px; vertical-align: middle;'></progress>\n",
       "      [50899/50899 8:22:21, Epoch 0/1]\n",
       "    </div>\n",
       "    <table border=\"1\" class=\"dataframe\">\n",
       "  <thead>\n",
       " <tr style=\"text-align: left;\">\n",
       "      <th>Step</th>\n",
       "      <th>Training Loss</th>\n",
       "    </tr>\n",
       "  </thead>\n",
       "  <tbody>\n",
       "    <tr>\n",
       "      <td>2000</td>\n",
       "      <td>0.575700</td>\n",
       "    </tr>\n",
       "    <tr>\n",
       "      <td>4000</td>\n",
       "      <td>0.470900</td>\n",
       "    </tr>\n",
       "    <tr>\n",
       "      <td>6000</td>\n",
       "      <td>0.443500</td>\n",
       "    </tr>\n",
       "    <tr>\n",
       "      <td>8000</td>\n",
       "      <td>0.419400</td>\n",
       "    </tr>\n",
       "    <tr>\n",
       "      <td>10000</td>\n",
       "      <td>0.405300</td>\n",
       "    </tr>\n",
       "    <tr>\n",
       "      <td>12000</td>\n",
       "      <td>0.392300</td>\n",
       "    </tr>\n",
       "    <tr>\n",
       "      <td>14000</td>\n",
       "      <td>0.377100</td>\n",
       "    </tr>\n",
       "    <tr>\n",
       "      <td>16000</td>\n",
       "      <td>0.380000</td>\n",
       "    </tr>\n",
       "    <tr>\n",
       "      <td>18000</td>\n",
       "      <td>0.366300</td>\n",
       "    </tr>\n",
       "    <tr>\n",
       "      <td>20000</td>\n",
       "      <td>0.359900</td>\n",
       "    </tr>\n",
       "    <tr>\n",
       "      <td>22000</td>\n",
       "      <td>0.355100</td>\n",
       "    </tr>\n",
       "    <tr>\n",
       "      <td>24000</td>\n",
       "      <td>0.342500</td>\n",
       "    </tr>\n",
       "    <tr>\n",
       "      <td>26000</td>\n",
       "      <td>0.337300</td>\n",
       "    </tr>\n",
       "    <tr>\n",
       "      <td>28000</td>\n",
       "      <td>0.335000</td>\n",
       "    </tr>\n",
       "    <tr>\n",
       "      <td>30000</td>\n",
       "      <td>0.328400</td>\n",
       "    </tr>\n",
       "    <tr>\n",
       "      <td>32000</td>\n",
       "      <td>0.319300</td>\n",
       "    </tr>\n",
       "    <tr>\n",
       "      <td>34000</td>\n",
       "      <td>0.319500</td>\n",
       "    </tr>\n",
       "    <tr>\n",
       "      <td>36000</td>\n",
       "      <td>0.315300</td>\n",
       "    </tr>\n",
       "    <tr>\n",
       "      <td>38000</td>\n",
       "      <td>0.315700</td>\n",
       "    </tr>\n",
       "    <tr>\n",
       "      <td>40000</td>\n",
       "      <td>0.308200</td>\n",
       "    </tr>\n",
       "    <tr>\n",
       "      <td>42000</td>\n",
       "      <td>0.308100</td>\n",
       "    </tr>\n",
       "    <tr>\n",
       "      <td>44000</td>\n",
       "      <td>0.306600</td>\n",
       "    </tr>\n",
       "    <tr>\n",
       "      <td>46000</td>\n",
       "      <td>0.304600</td>\n",
       "    </tr>\n",
       "    <tr>\n",
       "      <td>48000</td>\n",
       "      <td>0.299500</td>\n",
       "    </tr>\n",
       "    <tr>\n",
       "      <td>50000</td>\n",
       "      <td>0.298800</td>\n",
       "    </tr>\n",
       "  </tbody>\n",
       "</table><p>"
      ],
      "text/plain": [
       "<IPython.core.display.HTML object>"
      ]
     },
     "metadata": {},
     "output_type": "display_data"
    },
    {
     "data": {
      "text/plain": [
       "TrainOutput(global_step=50899, training_loss=0.3582233393055748, metrics={'train_runtime': 30142.0462, 'train_samples_per_second': 13.509, 'train_steps_per_second': 1.689, 'total_flos': 4.433056696892129e+17, 'train_loss': 0.3582233393055748, 'epoch': 0.9999950883362722})"
      ]
     },
     "execution_count": 36,
     "metadata": {},
     "output_type": "execute_result"
    }
   ],
   "source": [
    "trainer.train()"
   ]
  },
  {
   "cell_type": "code",
   "execution_count": null,
   "id": "39497085-8e26-4156-a4f0-3a486b6ae1e0",
   "metadata": {},
   "outputs": [],
   "source": []
  }
 ],
 "metadata": {
  "kernelspec": {
   "display_name": "Python 3 (ipykernel)",
   "language": "python",
   "name": "python3"
  },
  "language_info": {
   "codemirror_mode": {
    "name": "ipython",
    "version": 3
   },
   "file_extension": ".py",
   "mimetype": "text/x-python",
   "name": "python",
   "nbconvert_exporter": "python",
   "pygments_lexer": "ipython3",
   "version": "3.12.5"
  }
 },
 "nbformat": 4,
 "nbformat_minor": 5
}
