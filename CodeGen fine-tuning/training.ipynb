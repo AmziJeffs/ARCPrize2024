{
 "cells": [
  {
   "cell_type": "markdown",
   "id": "02ff0759-c381-499f-91da-27517f1933d3",
   "metadata": {},
   "source": [
    "## Imports"
   ]
  },
  {
   "cell_type": "code",
   "execution_count": 1,
   "id": "28218902-cfd1-446c-ac98-7c0e0576d2e7",
   "metadata": {},
   "outputs": [],
   "source": [
    "# Python imports\n",
    "import os\n",
    "import sys\n",
    "import json\n",
    "from pathlib import Path\n",
    "import gc\n",
    "import inspect\n",
    "from copy import deepcopy\n",
    "from copy import copy\n",
    "from datetime import datetime\n",
    "\n",
    "import random\n",
    "\n",
    "import numpy as np\n",
    "import pandas as pd\n",
    "import matplotlib.pyplot as plt\n",
    "from matplotlib import colors\n",
    "\n",
    "from tqdm.notebook import tqdm"
   ]
  },
  {
   "cell_type": "code",
   "execution_count": 2,
   "id": "04326262-cd68-4245-a20d-553854b0749f",
   "metadata": {},
   "outputs": [],
   "source": [
    "# Transformer imports\n",
    "from transformers import AutoTokenizer, AutoModelForCausalLM, Trainer, TrainingArguments, DataCollatorForLanguageModeling\n",
    "from trl import SFTTrainer, SFTConfig\n",
    "from datasets import Dataset\n",
    "import torch"
   ]
  },
  {
   "cell_type": "code",
   "execution_count": 3,
   "id": "298082cc-e525-4e53-b861-b3313a6b1b93",
   "metadata": {},
   "outputs": [],
   "source": [
    "# Local imports\n",
    "sys.path.insert(0, '..')\n",
    "from visualization.visualization_utils import *\n",
    "from misc_utils import *\n",
    "\n",
    "sys.path.insert(0, '../DSL')\n",
    "from dsl import *\n",
    "from constants import *\n",
    "from solver_class import Solver\n",
    "import solvers\n",
    "import verifiers\n",
    "import verifiers_reformatted"
   ]
  },
  {
   "cell_type": "markdown",
   "id": "f849298b-4906-415e-85c4-6eb9602a6861",
   "metadata": {},
   "source": [
    "## Hyperparameters"
   ]
  },
  {
   "cell_type": "code",
   "execution_count": 4,
   "id": "cac830af-43aa-4614-976e-a29921b8fa44",
   "metadata": {},
   "outputs": [],
   "source": [
    "NUM_TRAIN_EPOCHS = 1\n",
    "NUM_RE_ARC_EXAMPLES_PER_TASK_PER_EPOCH = 20 # No longer used\n",
    "MAX_SEQ_LENGTH = 1536 # 2048 is took big, OOM. Also got OOM with 1536 but only intermittently."
   ]
  },
  {
   "cell_type": "markdown",
   "id": "aa8f9af0-6b28-463b-926b-c3241a422d7b",
   "metadata": {},
   "source": [
    "## Load data"
   ]
  },
  {
   "cell_type": "code",
   "execution_count": 5,
   "id": "fe86d7b2-b843-42a6-adf8-0fb5e9a80abb",
   "metadata": {},
   "outputs": [],
   "source": [
    "data_path = Path('../data')\n",
    "train_path = data_path / 'arc-agi_training_challenges.json'\n",
    "train_sols_path = data_path / 'arc-agi_training_solutions.json'\n",
    "eval_path = data_path / 'arc-agi_evaluation_challenges.json'\n",
    "eval_sols_path = data_path / 'arc-agi_evaluation_solutions.json'\n",
    "re_arc_path = data_path / 're-arc_tasks'"
   ]
  },
  {
   "cell_type": "code",
   "execution_count": 6,
   "id": "8522c4ca-209c-4c6f-80e8-54d76a764c8b",
   "metadata": {},
   "outputs": [],
   "source": [
    "with open(train_path, 'r') as f:\n",
    "    train_tasks = json.load(f)\n",
    "with open(train_sols_path, 'r') as f:\n",
    "    train_sols = json.load(f)\n",
    "\n",
    "train_task_labels = sorted(train_tasks.keys())\n",
    "\n",
    "#with open(eval_path, 'r') as f:\n",
    "#    eval_tasks = json.load(f)\n",
    "#with open(eval_sols_path, 'r') as f:\n",
    "#    eval_sols = json.load(f)\n",
    "\n",
    "#eval_task_labels = sorted(eval_tasks.keys())"
   ]
  },
  {
   "cell_type": "code",
   "execution_count": 7,
   "id": "a7c848d9-3548-4a30-bca7-1eb29d81d7eb",
   "metadata": {},
   "outputs": [
    {
     "name": "stdout",
     "output_type": "stream",
     "text": [
      "Using cuda\n"
     ]
    }
   ],
   "source": [
    "DEVICE = 'cuda' if torch.cuda.is_available() else 'cpu'\n",
    "print(f\"Using {DEVICE}\")"
   ]
  },
  {
   "cell_type": "markdown",
   "id": "de600aea-c8fb-4da4-a578-26ee8dee1f7f",
   "metadata": {},
   "source": [
    "## Load model and tokenizer"
   ]
  },
  {
   "cell_type": "code",
   "execution_count": 8,
   "id": "5c68f39d-2ff4-4ed2-b89f-cdd67df40dfe",
   "metadata": {},
   "outputs": [],
   "source": [
    "codegen_tokenizer = AutoTokenizer.from_pretrained(\"Salesforce/codegen-350M-mono\",\n",
    "                                                 #padding_side='left', # For padding batches of input in decoder-only context\n",
    "                                                 clean_up_tokenization_spaces = True,\n",
    "                                                 )\n",
    "codegen = AutoModelForCausalLM.from_pretrained(\"outputs/v7/\")\n",
    "codegen = codegen.to(DEVICE)"
   ]
  },
  {
   "cell_type": "code",
   "execution_count": 9,
   "id": "2bcd49bd-50eb-4104-8de7-6ea2bf7fea1c",
   "metadata": {},
   "outputs": [
    {
     "data": {
      "text/plain": [
       "1"
      ]
     },
     "execution_count": 9,
     "metadata": {},
     "output_type": "execute_result"
    }
   ],
   "source": [
    "EOS_TOKEN = codegen_tokenizer.eos_token\n",
    "BOS_TOKEN = codegen_tokenizer.bos_token\n",
    "codegen_tokenizer.add_special_tokens({'pad_token': '[PAD]'})"
   ]
  },
  {
   "cell_type": "markdown",
   "id": "f740c03f-7ccf-44b1-bf59-dff54c9ddf59",
   "metadata": {},
   "source": [
    "## Create training data"
   ]
  },
  {
   "cell_type": "code",
   "execution_count": 10,
   "id": "d0763ff4-49d5-4f67-abeb-e74f329712a9",
   "metadata": {},
   "outputs": [],
   "source": [
    "# Load Hodel's solvers and verifiers.\n",
    "# Verifiers are reformatted to look the same as the solvers.\n",
    "solver_programs = {label: Solver(inspect.getsource(getattr(solvers, f\"solve_{label}\"))) for label in train_task_labels}\n",
    "verifier_programs = {label: Solver(inspect.getsource(getattr(verifiers_reformatted, f\"verify_{label}\"))) for label in train_task_labels}"
   ]
  },
  {
   "cell_type": "code",
   "execution_count": null,
   "id": "c88f18fa-a6fd-46f5-a341-48f3b2725b1a",
   "metadata": {},
   "outputs": [],
   "source": [
    "# Set names of solvers to 'solve', i.e. remove labels\n",
    "for _, solver in solver_programs.items():\n",
    "    solver.rename('solve')\n",
    "for _, solver in verifier_programs.items():\n",
    "    solver.rename('solve')"
   ]
  },
  {
   "cell_type": "code",
   "execution_count": null,
   "id": "8943d1e9-8f5a-440f-94a1-e5a10f1e205d",
   "metadata": {},
   "outputs": [],
   "source": [
    "def get_n_random_re_arc_pairs(label: str, n: int) -> list[dict]:\n",
    "    with open(re_arc_path / f\"{label}.json\", \"r\") as f:\n",
    "        re_arc_examples = json.load(f)\n",
    "    return random.sample(re_arc_examples, n)"
   ]
  },
  {
   "cell_type": "code",
   "execution_count": null,
   "id": "11663988-348f-4246-be22-0db6481c6e85",
   "metadata": {},
   "outputs": [],
   "source": [
    "def create_training_example(solver: Solver, in_grid, out_grid, compact = True) -> str:\n",
    "    \"\"\"\n",
    "    Adds docstring to a solver showing input/output grids.\n",
    "    \"\"\"\n",
    "    in_grid_str = grid_to_string_compact(in_grid) if compact else grid_to_string(in_grid)\n",
    "    out_grid_str = grid_to_string_compact(out_grid) if compact else grid_to_string(out_grid)\n",
    "\n",
    "    docstring = f\"\"\"\n",
    "    INPUT:\n",
    "    {in_grid_str}\n",
    "    OUTPUT:\n",
    "    {out_grid_str}\n",
    "    \"\"\"\n",
    "    solver.update_docstring(docstring)\n",
    "    \n",
    "    solver_text = str(solver).strip()\n",
    "    return solver_text + EOS_TOKEN"
   ]
  },
  {
   "cell_type": "code",
   "execution_count": null,
   "id": "1c09a4d6-358d-4df7-9e7d-54be8b9cf7e6",
   "metadata": {},
   "outputs": [],
   "source": [
    "# Show an example\n",
    "l = random.choice(train_task_labels)\n",
    "print(l)\n",
    "print(\"\")\n",
    "in_grid = train_tasks[l]['train'][0]['input']\n",
    "out_grid = train_tasks[l]['train'][0]['output']\n",
    "solver = solver_programs[l]\n",
    "print(create_training_example(solver, in_grid, out_grid))"
   ]
  },
  {
   "cell_type": "code",
   "execution_count": null,
   "id": "0c521482-e648-4271-a5cb-ed13c3c2af41",
   "metadata": {},
   "outputs": [],
   "source": [
    "raw_training_examples = []\n",
    "\n",
    "for label in tqdm(train_task_labels):\n",
    "    N = len(train_tasks[label]['train'])\n",
    "    M = len(train_tasks[label]['test'])\n",
    "    \n",
    "    solver = solver_programs[label]\n",
    "    verifier = verifier_programs[label]\n",
    "\n",
    "    # Create solver examples from ordinary arc tasks\n",
    "    for i in range(N):\n",
    "        in_grid = train_tasks[label]['train'][i]['input']\n",
    "        out_grid = train_tasks[label]['train'][i]['output']\n",
    "        solver_ex = create_training_example(solver, in_grid, out_grid)\n",
    "        raw_training_examples.append(solver_ex)\n",
    "    for i in range(M):\n",
    "        in_grid = train_tasks[label]['test'][i]['input']\n",
    "        out_grid = train_sols[label][i]\n",
    "        solver_ex = create_training_example(solver, in_grid, out_grid)\n",
    "        raw_training_examples.append(solver_ex)\n",
    "\n",
    "    # Create verifier examples from re-arc tasks\n",
    "    with open(re_arc_path / f\"{label}.json\", \"r\") as f:\n",
    "        re_arc_pairs = json.load(f)\n",
    "    for pair in re_arc_pairs:\n",
    "        in_grid = pair['input']\n",
    "        out_grid = pair['output']\n",
    "        verifier_ex = create_training_example(verifier, in_grid, out_grid)\n",
    "        raw_training_examples.append(verifier_ex)"
   ]
  },
  {
   "cell_type": "code",
   "execution_count": 11,
   "id": "226eb2a3-0d12-4fd1-9c07-6bbc893eaff1",
   "metadata": {},
   "outputs": [],
   "source": [
    "with open(\"../data augmentation/augment.py\", \"r\") as f:\n",
    "    raw_training_examples = f.read().split(\"\\n\\n\\n\")"
   ]
  },
  {
   "cell_type": "code",
   "execution_count": 12,
   "id": "a939a545-2426-4799-ae0a-d8f6f1f17849",
   "metadata": {},
   "outputs": [
    {
     "data": {
      "application/vnd.jupyter.widget-view+json": {
       "model_id": "2ea9c8fd45804cbcb2f78c1ddb18ce0e",
       "version_major": 2,
       "version_minor": 0
      },
      "text/plain": [
       "  0%|          | 0/164173 [00:00<?, ?it/s]"
      ]
     },
     "metadata": {},
     "output_type": "display_data"
    },
    {
     "name": "stderr",
     "output_type": "stream",
     "text": [
      "Token indices sequence length is longer than the specified maximum sequence length for this model (2191 > 2048). Running this sequence through the model will result in indexing errors\n"
     ]
    }
   ],
   "source": [
    "training_examples = []\n",
    "token_counts = []\n",
    "number_split = 0\n",
    "\n",
    "# Splits with 200 chars overlap\n",
    "for example in tqdm(raw_training_examples):\n",
    "    token_count = len(codegen_tokenizer.tokenize(example))\n",
    "    if token_count > MAX_SEQ_LENGTH:\n",
    "        number_split += 1\n",
    "        first_half = example[:len(example)//2+100]\n",
    "        second_half = example[len(example)//2-100:]\n",
    "        training_examples.append(first_half)\n",
    "        training_examples.append(second_half)\n",
    "        token_counts.append(len(codegen_tokenizer.tokenize(first_half)))\n",
    "        token_counts.append(len(codegen_tokenizer.tokenize(second_half)))\n",
    "    else:\n",
    "        training_examples.append(example)\n",
    "        token_counts.append(token_count)"
   ]
  },
  {
   "cell_type": "code",
   "execution_count": 13,
   "id": "9adb41f1-480b-4ddb-8e44-ef1be530e9e1",
   "metadata": {},
   "outputs": [
    {
     "data": {
      "image/png": "[encoded data removed]",
      "text/plain": [
       "<Figure size 640x480 with 1 Axes>"
      ]
     },
     "metadata": {},
     "output_type": "display_data"
    },
    {
     "name": "stdout",
     "output_type": "stream",
     "text": [
      "Maximum number of tokens actually needed for training examples: 1524\n",
      "A total of 17 examples exceeded 1536 tokens and were split in half\n",
      "A total of 0 examples exceed 1536 tokens\n"
     ]
    }
   ],
   "source": [
    "plt.hist(token_counts, bins = 100)\n",
    "plt.show()\n",
    "print(f\"Maximum number of tokens actually needed for training examples: {max(token_counts)}\")\n",
    "print(f\"A total of {number_split} examples exceeded {MAX_SEQ_LENGTH} tokens and were split in half\")\n",
    "print(f\"A total of {sum([count > MAX_SEQ_LENGTH for count in token_counts])} examples exceed {MAX_SEQ_LENGTH} tokens\")"
   ]
  },
  {
   "cell_type": "code",
   "execution_count": 14,
   "id": "dffb1348-3748-4ab6-b48e-bee52b2f5f0d",
   "metadata": {},
   "outputs": [
    {
     "name": "stdout",
     "output_type": "stream",
     "text": [
      "We have 164190 training examples, an average of 410.475 per task.\n"
     ]
    }
   ],
   "source": [
    "print(f\"We have {len(training_examples)} training examples, an average of {len(training_examples) / 400} per task.\")"
   ]
  },
  {
   "cell_type": "code",
   "execution_count": 15,
   "id": "d641eba8-9237-4036-a564-2ac8e9fab29f",
   "metadata": {},
   "outputs": [
    {
     "name": "stdout",
     "output_type": "stream",
     "text": [
      "There are 164190 after deduplication.\n"
     ]
    }
   ],
   "source": [
    "print(f\"There are {len(set(training_examples))} after deduplication.\")"
   ]
  },
  {
   "cell_type": "markdown",
   "id": "4179c028-5b95-4215-a943-e2ddfadb0bc0",
   "metadata": {},
   "source": [
    "## Train and save"
   ]
  },
  {
   "cell_type": "code",
   "execution_count": 16,
   "id": "26f3ef2d-0621-4eda-8d2a-01251f34dee5",
   "metadata": {},
   "outputs": [],
   "source": [
    "dataset = Dataset.from_dict({'text': training_examples})"
   ]
  },
  {
   "cell_type": "code",
   "execution_count": 18,
   "id": "9f06064b-f2e8-4e39-9014-6c5b03984c30",
   "metadata": {},
   "outputs": [
    {
     "data": {
      "application/vnd.jupyter.widget-view+json": {
       "model_id": "1efbf77571024df4aad9a741ff0ed316",
       "version_major": 2,
       "version_minor": 0
      },
      "text/plain": [
       "Map:   0%|          | 0/164190 [00:00<?, ? examples/s]"
      ]
     },
     "metadata": {},
     "output_type": "display_data"
    }
   ],
   "source": [
    "trainer = SFTTrainer(\n",
    "    model = codegen,\n",
    "    tokenizer = codegen_tokenizer,\n",
    "    train_dataset = dataset,\n",
    "    args = SFTConfig(\n",
    "        per_device_train_batch_size = 1,\n",
    "        gradient_accumulation_steps = 8,\n",
    "        dataset_text_field = \"text\",\n",
    "        max_seq_length = MAX_SEQ_LENGTH, \n",
    "        num_train_epochs = NUM_TRAIN_EPOCHS,\n",
    "        learning_rate = 2e-4,\n",
    "        fp16 = True,\n",
    "        bf16 = False,\n",
    "        logging_steps = 1000,\n",
    "        save_steps = 4000,\n",
    "        optim = \"adamw_torch\",\n",
    "        weight_decay = 0.01,\n",
    "        lr_scheduler_type = \"linear\",\n",
    "        seed = 3407,\n",
    "        output_dir = \"outputs\",\n",
    "    ),\n",
    ")"
   ]
  },
  {
   "cell_type": "code",
   "execution_count": 19,
   "id": "1fb3cca0-77fc-4584-9122-ff9c887196b9",
   "metadata": {},
   "outputs": [
    {
     "data": {
      "text/html": [
       "\n",
       "    <div>\n",
       "      \n",
       "      <progress value='20523' max='20523' style='width:300px; height:20px; vertical-align: middle;'></progress>\n",
       "      [20523/20523 2:20:45, Epoch 0/1]\n",
       "    </div>\n",
       "    <table border=\"1\" class=\"dataframe\">\n",
       "  <thead>\n",
       " <tr style=\"text-align: left;\">\n",
       "      <th>Step</th>\n",
       "      <th>Training Loss</th>\n",
       "    </tr>\n",
       "  </thead>\n",
       "  <tbody>\n",
       "    <tr>\n",
       "      <td>1000</td>\n",
       "      <td>0.256700</td>\n",
       "    </tr>\n",
       "    <tr>\n",
       "      <td>2000</td>\n",
       "      <td>0.171500</td>\n",
       "    </tr>\n",
       "    <tr>\n",
       "      <td>3000</td>\n",
       "      <td>0.146100</td>\n",
       "    </tr>\n",
       "    <tr>\n",
       "      <td>4000</td>\n",
       "      <td>0.137000</td>\n",
       "    </tr>\n",
       "    <tr>\n",
       "      <td>5000</td>\n",
       "      <td>0.129000</td>\n",
       "    </tr>\n",
       "    <tr>\n",
       "      <td>6000</td>\n",
       "      <td>0.129800</td>\n",
       "    </tr>\n",
       "    <tr>\n",
       "      <td>7000</td>\n",
       "      <td>0.124700</td>\n",
       "    </tr>\n",
       "    <tr>\n",
       "      <td>8000</td>\n",
       "      <td>0.121800</td>\n",
       "    </tr>\n",
       "    <tr>\n",
       "      <td>9000</td>\n",
       "      <td>0.118400</td>\n",
       "    </tr>\n",
       "    <tr>\n",
       "      <td>10000</td>\n",
       "      <td>0.114100</td>\n",
       "    </tr>\n",
       "    <tr>\n",
       "      <td>11000</td>\n",
       "      <td>0.112700</td>\n",
       "    </tr>\n",
       "    <tr>\n",
       "      <td>12000</td>\n",
       "      <td>0.111600</td>\n",
       "    </tr>\n",
       "    <tr>\n",
       "      <td>13000</td>\n",
       "      <td>0.108500</td>\n",
       "    </tr>\n",
       "    <tr>\n",
       "      <td>14000</td>\n",
       "      <td>0.105100</td>\n",
       "    </tr>\n",
       "    <tr>\n",
       "      <td>15000</td>\n",
       "      <td>0.103600</td>\n",
       "    </tr>\n",
       "    <tr>\n",
       "      <td>16000</td>\n",
       "      <td>0.101900</td>\n",
       "    </tr>\n",
       "    <tr>\n",
       "      <td>17000</td>\n",
       "      <td>0.101800</td>\n",
       "    </tr>\n",
       "    <tr>\n",
       "      <td>18000</td>\n",
       "      <td>0.098800</td>\n",
       "    </tr>\n",
       "    <tr>\n",
       "      <td>19000</td>\n",
       "      <td>0.097500</td>\n",
       "    </tr>\n",
       "    <tr>\n",
       "      <td>20000</td>\n",
       "      <td>0.095700</td>\n",
       "    </tr>\n",
       "  </tbody>\n",
       "</table><p>"
      ],
      "text/plain": [
       "<IPython.core.display.HTML object>"
      ]
     },
     "metadata": {},
     "output_type": "display_data"
    },
    {
     "data": {
      "text/plain": [
       "TrainOutput(global_step=20523, training_loss=0.12361883609457415, metrics={'train_runtime': 8445.752, 'train_samples_per_second': 19.441, 'train_steps_per_second': 2.43, 'total_flos': 9.769847476322304e+16, 'train_loss': 0.12361883609457415, 'epoch': 0.9999634569705829})"
      ]
     },
     "execution_count": 19,
     "metadata": {},
     "output_type": "execute_result"
    }
   ],
   "source": [
    "trainer.train()"
   ]
  },
  {
   "cell_type": "raw",
   "id": "154a593d-47a8-4030-9e42-f432ffb58b8a",
   "metadata": {},
   "source": []
  }
 ],
 "metadata": {
  "kernelspec": {
   "display_name": "Python 3 (ipykernel)",
   "language": "python",
   "name": "python3"
  },
  "language_info": {
   "codemirror_mode": {
    "name": "ipython",
    "version": 3
   },
   "file_extension": ".py",
   "mimetype": "text/x-python",
   "name": "python",
   "nbconvert_exporter": "python",
   "pygments_lexer": "ipython3",
   "version": "3.12.5"
  }
 },
 "nbformat": 4,
 "nbformat_minor": 5
}
