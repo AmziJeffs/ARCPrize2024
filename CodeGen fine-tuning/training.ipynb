{
 "cells": [
  {
   "cell_type": "markdown",
   "id": "02ff0759-c381-499f-91da-27517f1933d3",
   "metadata": {},
   "source": [
    "## Imports"
   ]
  },
  {
   "cell_type": "code",
   "execution_count": 1,
   "id": "28218902-cfd1-446c-ac98-7c0e0576d2e7",
   "metadata": {},
   "outputs": [],
   "source": [
    "# Python imports\n",
    "import os\n",
    "import sys\n",
    "import json\n",
    "from pathlib import Path\n",
    "import gc\n",
    "import inspect\n",
    "from copy import deepcopy\n",
    "from copy import copy\n",
    "from datetime import datetime\n",
    "\n",
    "import random\n",
    "\n",
    "import numpy as np\n",
    "import pandas as pd\n",
    "import matplotlib.pyplot as plt\n",
    "from matplotlib import colors\n",
    "\n",
    "from tqdm.notebook import tqdm"
   ]
  },
  {
   "cell_type": "code",
   "execution_count": 2,
   "id": "04326262-cd68-4245-a20d-553854b0749f",
   "metadata": {},
   "outputs": [],
   "source": [
    "# Transformer imports\n",
    "from transformers import AutoTokenizer, AutoModelForCausalLM, Trainer, TrainingArguments, DataCollatorForLanguageModeling\n",
    "from trl import SFTTrainer, SFTConfig\n",
    "from datasets import Dataset\n",
    "import torch"
   ]
  },
  {
   "cell_type": "code",
   "execution_count": 3,
   "id": "298082cc-e525-4e53-b861-b3313a6b1b93",
   "metadata": {},
   "outputs": [],
   "source": [
    "# Local imports\n",
    "sys.path.insert(0, '..')\n",
    "from visualization.visualization_utils import *\n",
    "from misc_utils import *\n",
    "\n",
    "sys.path.insert(0, '../DSL')\n",
    "from dsl import *\n",
    "from constants import *\n",
    "from solver_class import Solver\n",
    "import solvers\n",
    "import verifiers\n",
    "import verifiers_reformatted"
   ]
  },
  {
   "cell_type": "markdown",
   "id": "f849298b-4906-415e-85c4-6eb9602a6861",
   "metadata": {},
   "source": [
    "## Hyperparameters"
   ]
  },
  {
   "cell_type": "code",
   "execution_count": 4,
   "id": "cac830af-43aa-4614-976e-a29921b8fa44",
   "metadata": {},
   "outputs": [],
   "source": [
    "NUM_TRAIN_EPOCHS = 4 # We use every re-arc pair in our training\n",
    "NUM_RE_ARC_EXAMPLES_PER_TASK_PER_EPOCH = 20 # No longer used\n",
    "MAX_SEQ_LENGTH = 1536 # 2048 is took big, OOM. Also got OOM with 1536 but only intermittently."
   ]
  },
  {
   "cell_type": "markdown",
   "id": "aa8f9af0-6b28-463b-926b-c3241a422d7b",
   "metadata": {},
   "source": [
    "## Load data"
   ]
  },
  {
   "cell_type": "code",
   "execution_count": 5,
   "id": "fe86d7b2-b843-42a6-adf8-0fb5e9a80abb",
   "metadata": {},
   "outputs": [],
   "source": [
    "data_path = Path('../data')\n",
    "train_path = data_path / 'arc-agi_training_challenges.json'\n",
    "train_sols_path = data_path / 'arc-agi_training_solutions.json'\n",
    "eval_path = data_path / 'arc-agi_evaluation_challenges.json'\n",
    "eval_sols_path = data_path / 'arc-agi_evaluation_solutions.json'\n",
    "re_arc_path = data_path / 're-arc_tasks'"
   ]
  },
  {
   "cell_type": "code",
   "execution_count": 6,
   "id": "8522c4ca-209c-4c6f-80e8-54d76a764c8b",
   "metadata": {},
   "outputs": [],
   "source": [
    "with open(train_path, 'r') as f:\n",
    "    train_tasks = json.load(f)\n",
    "with open(train_sols_path, 'r') as f:\n",
    "    train_sols = json.load(f)\n",
    "\n",
    "train_task_labels = sorted(train_tasks.keys())\n",
    "\n",
    "#with open(eval_path, 'r') as f:\n",
    "#    eval_tasks = json.load(f)\n",
    "#with open(eval_sols_path, 'r') as f:\n",
    "#    eval_sols = json.load(f)\n",
    "\n",
    "#eval_task_labels = sorted(eval_tasks.keys())"
   ]
  },
  {
   "cell_type": "code",
   "execution_count": 7,
   "id": "a7c848d9-3548-4a30-bca7-1eb29d81d7eb",
   "metadata": {},
   "outputs": [
    {
     "name": "stdout",
     "output_type": "stream",
     "text": [
      "Using cuda\n"
     ]
    }
   ],
   "source": [
    "DEVICE = 'cuda' if torch.cuda.is_available() else 'cpu'\n",
    "print(f\"Using {DEVICE}\")"
   ]
  },
  {
   "cell_type": "markdown",
   "id": "de600aea-c8fb-4da4-a578-26ee8dee1f7f",
   "metadata": {},
   "source": [
    "## Load model and tokenizer"
   ]
  },
  {
   "cell_type": "code",
   "execution_count": 8,
   "id": "5c68f39d-2ff4-4ed2-b89f-cdd67df40dfe",
   "metadata": {},
   "outputs": [],
   "source": [
    "codegen_tokenizer = AutoTokenizer.from_pretrained(\"Salesforce/codegen-350M-mono\",\n",
    "                                                 #padding_side='left', # For padding batches of input in decoder-only context\n",
    "                                                 clean_up_tokenization_spaces = True,\n",
    "                                                 )\n",
    "codegen = AutoModelForCausalLM.from_pretrained(\"outputs/v7/\")\n",
    "codegen = codegen.to(DEVICE)"
   ]
  },
  {
   "cell_type": "code",
   "execution_count": 9,
   "id": "2bcd49bd-50eb-4104-8de7-6ea2bf7fea1c",
   "metadata": {},
   "outputs": [
    {
     "data": {
      "text/plain": [
       "1"
      ]
     },
     "execution_count": 9,
     "metadata": {},
     "output_type": "execute_result"
    }
   ],
   "source": [
    "EOS_TOKEN = codegen_tokenizer.eos_token\n",
    "BOS_TOKEN = codegen_tokenizer.bos_token\n",
    "codegen_tokenizer.add_special_tokens({'pad_token': '[PAD]'})"
   ]
  },
  {
   "cell_type": "markdown",
   "id": "f740c03f-7ccf-44b1-bf59-dff54c9ddf59",
   "metadata": {},
   "source": [
    "## Create training data"
   ]
  },
  {
   "cell_type": "code",
   "execution_count": 10,
   "id": "d0763ff4-49d5-4f67-abeb-e74f329712a9",
   "metadata": {},
   "outputs": [],
   "source": [
    "# Load Hodel's solvers and verifiers.\n",
    "# Verifiers are reformatted to look the same as the solvers.\n",
    "solver_programs = {label: Solver(inspect.getsource(getattr(solvers, f\"solve_{label}\"))) for label in train_task_labels}\n",
    "verifier_programs = {label: Solver(inspect.getsource(getattr(verifiers_reformatted, f\"solve_{label}\"))) for label in train_task_labels}"
   ]
  },
  {
   "cell_type": "code",
   "execution_count": 11,
   "id": "c88f18fa-a6fd-46f5-a341-48f3b2725b1a",
   "metadata": {},
   "outputs": [],
   "source": [
    "# Set names of solvers to 'solve', i.e. remove labels\n",
    "for _, solver in solver_programs.items():\n",
    "    solver.rename('solve')\n",
    "for _, solver in verifier_programs.items():\n",
    "    solver.rename('solve')"
   ]
  },
  {
   "cell_type": "code",
   "execution_count": 12,
   "id": "8943d1e9-8f5a-440f-94a1-e5a10f1e205d",
   "metadata": {},
   "outputs": [],
   "source": [
    "def get_n_random_re_arc_pairs(label: str, n: int) -> list[dict]:\n",
    "    with open(re_arc_path / f\"{label}.json\", \"r\") as f:\n",
    "        re_arc_examples = json.load(f)\n",
    "    return random.sample(re_arc_examples, n)"
   ]
  },
  {
   "cell_type": "code",
   "execution_count": 13,
   "id": "11663988-348f-4246-be22-0db6481c6e85",
   "metadata": {},
   "outputs": [],
   "source": [
    "def create_training_example(solver: Solver, in_grid, out_grid, compact = True) -> str:\n",
    "    \"\"\"\n",
    "    Adds docstring to a solver showing input/output grids.\n",
    "    \"\"\"\n",
    "    in_grid_str = grid_to_string_compact(in_grid) if compact else grid_to_string(in_grid)\n",
    "    out_grid_str = grid_to_string_compact(out_grid) if compact else grid_to_string(out_grid)\n",
    "\n",
    "    docstring = f\"\"\"\n",
    "    INPUT:\n",
    "    {in_grid_str}\n",
    "    OUTPUT:\n",
    "    {out_grid_str}\n",
    "    \"\"\"\n",
    "    solver.update_docstring(docstring)\n",
    "    \n",
    "    solver_text = str(solver).strip()\n",
    "    return solver_text + EOS_TOKEN"
   ]
  },
  {
   "cell_type": "code",
   "execution_count": 14,
   "id": "1c09a4d6-358d-4df7-9e7d-54be8b9cf7e6",
   "metadata": {},
   "outputs": [
    {
     "name": "stdout",
     "output_type": "stream",
     "text": [
      "bd4472b8\n",
      "\n",
      "def solve(I):\n",
      "    \"\"\"\n",
      "    INPUT:\n",
      "    214\n",
      "    555\n",
      "    000\n",
      "    000\n",
      "    000\n",
      "    000\n",
      "    000\n",
      "    000\n",
      "    OUTPUT:\n",
      "    214\n",
      "    555\n",
      "    222\n",
      "    111\n",
      "    444\n",
      "    222\n",
      "    111\n",
      "    444\n",
      "    \"\"\"\n",
      "    x1 = width(I)\n",
      "    x2 = astuple(TWO, x1)\n",
      "    x3 = crop(I, ORIGIN, x2)\n",
      "    x4 = tophalf(x3)\n",
      "    x5 = dmirror(x4)\n",
      "    x6 = hupscale(x5, x1)\n",
      "    x7 = repeat(x6, TWO)\n",
      "    x8 = merge(x7)\n",
      "    O = vconcat(x3, x8)\n",
      "    return O<|endoftext|>\n"
     ]
    }
   ],
   "source": [
    "# Show an example\n",
    "l = random.choice(train_task_labels)\n",
    "print(l)\n",
    "print(\"\")\n",
    "in_grid = train_tasks[l]['train'][0]['input']\n",
    "out_grid = train_tasks[l]['train'][0]['output']\n",
    "solver = solver_programs[l]\n",
    "print(create_training_example(solver, in_grid, out_grid))"
   ]
  },
  {
   "cell_type": "code",
   "execution_count": 22,
   "id": "0c521482-e648-4271-a5cb-ed13c3c2af41",
   "metadata": {},
   "outputs": [
    {
     "data": {
      "application/vnd.jupyter.widget-view+json": {
       "model_id": "f0b6e79f38c14bc2b6870c1fd2fbaf43",
       "version_major": 2,
       "version_minor": 0
      },
      "text/plain": [
       "  0%|          | 0/400 [00:00<?, ?it/s]"
      ]
     },
     "metadata": {},
     "output_type": "display_data"
    }
   ],
   "source": [
    "raw_training_examples = []\n",
    "\n",
    "for label in tqdm(train_task_labels):\n",
    "    N = len(train_tasks[label]['train'])\n",
    "    M = len(train_tasks[label]['test'])\n",
    "    \n",
    "    solver = solver_programs[label]\n",
    "    verifier = verifier_programs[label]\n",
    "\n",
    "    # Create solver examples from ordinary arc tasks\n",
    "    for i in range(N):\n",
    "        in_grid = train_tasks[label]['train'][i]['input']\n",
    "        out_grid = train_tasks[label]['train'][i]['output']\n",
    "        solver_ex = create_training_example(solver, in_grid, out_grid)\n",
    "        raw_training_examples.append(solver_ex)\n",
    "    for i in range(M):\n",
    "        in_grid = train_tasks[label]['test'][i]['input']\n",
    "        out_grid = train_sols[label][i]\n",
    "        solver_ex = create_training_example(solver, in_grid, out_grid)\n",
    "        raw_training_examples.append(solver_ex)\n",
    "\n",
    "    # Create verifier examples from re-arc tasks\n",
    "    with open(re_arc_path / f\"{label}.json\", \"r\") as f:\n",
    "        re_arc_pairs = json.load(f)\n",
    "    for pair in re_arc_pairs:\n",
    "        in_grid = pair['input']\n",
    "        out_grid = pair['output']\n",
    "        verifier_ex = create_training_example(verifier, in_grid, out_grid)\n",
    "        raw_training_examples.append(verifier_ex)"
   ]
  },
  {
   "cell_type": "code",
   "execution_count": 28,
   "id": "a939a545-2426-4799-ae0a-d8f6f1f17849",
   "metadata": {},
   "outputs": [
    {
     "data": {
      "application/vnd.jupyter.widget-view+json": {
       "model_id": "04c302ed4bc340aca287000c2406fe2b",
       "version_major": 2,
       "version_minor": 0
      },
      "text/plain": [
       "  0%|          | 0/401718 [00:00<?, ?it/s]"
      ]
     },
     "metadata": {},
     "output_type": "display_data"
    }
   ],
   "source": [
    "training_examples = []\n",
    "token_counts = []\n",
    "number_split = 0\n",
    "\n",
    "# Splits with 200 chars overlap\n",
    "for example in tqdm(raw_training_examples):\n",
    "    token_count = len(codegen_tokenizer.tokenize(example))\n",
    "    if token_count > MAX_SEQ_LENGTH:\n",
    "        number_split += 1\n",
    "        first_half = example[:len(example)//2+100]\n",
    "        second_half = example[len(example)//2-100:]\n",
    "        training_examples.append(first_half)\n",
    "        training_examples.append(second_half)\n",
    "        token_counts.append(len(codegen_tokenizer.tokenize(first_half)))\n",
    "        token_counts.append(len(codegen_tokenizer.tokenize(second_half)))\n",
    "    else:\n",
    "        training_examples.append(example)\n",
    "        token_counts.append(token_count)"
   ]
  },
  {
   "cell_type": "code",
   "execution_count": 30,
   "id": "9adb41f1-480b-4ddb-8e44-ef1be530e9e1",
   "metadata": {},
   "outputs": [
    {
     "data": {
      "image/png": "[encoded data removed]",
      "text/plain": [
       "<Figure size 640x480 with 1 Axes>"
      ]
     },
     "metadata": {},
     "output_type": "display_data"
    },
    {
     "name": "stdout",
     "output_type": "stream",
     "text": [
      "Maximum number of tokens actually needed for training examples: 1536\n",
      "A total of 5476 examples exceeded 1536 tokens and were split in half\n",
      "A total of 0 examples exceed 1536 tokens\n"
     ]
    }
   ],
   "source": [
    "plt.hist(token_counts, bins = 100)\n",
    "plt.show()\n",
    "print(f\"Maximum number of tokens actually needed for training examples: {max(token_counts)}\")\n",
    "print(f\"A total of {number_split} examples exceeded {MAX_SEQ_LENGTH} tokens and were split in half\")\n",
    "print(f\"A total of {sum([count > MAX_SEQ_LENGTH for count in token_counts])} examples exceed {MAX_SEQ_LENGTH} tokens\")"
   ]
  },
  {
   "cell_type": "code",
   "execution_count": 32,
   "id": "dffb1348-3748-4ab6-b48e-bee52b2f5f0d",
   "metadata": {},
   "outputs": [
    {
     "name": "stdout",
     "output_type": "stream",
     "text": [
      "We have 407194 training examples, an average of 1017.985 per task.\n"
     ]
    }
   ],
   "source": [
    "print(f\"We have {len(training_examples)} training examples, an average of {len(training_examples) / 400} per task.\")"
   ]
  },
  {
   "cell_type": "code",
   "execution_count": 33,
   "id": "d641eba8-9237-4036-a564-2ac8e9fab29f",
   "metadata": {},
   "outputs": [
    {
     "name": "stdout",
     "output_type": "stream",
     "text": [
      "There are 403897 after deduplication.\n"
     ]
    }
   ],
   "source": [
    "print(f\"There are {len(set(training_examples))} after deduplication.\")"
   ]
  },
  {
   "cell_type": "markdown",
   "id": "4179c028-5b95-4215-a943-e2ddfadb0bc0",
   "metadata": {},
   "source": [
    "## Train and save"
   ]
  },
  {
   "cell_type": "code",
   "execution_count": 34,
   "id": "26f3ef2d-0621-4eda-8d2a-01251f34dee5",
   "metadata": {},
   "outputs": [],
   "source": [
    "dataset = Dataset.from_dict({'text': training_examples})"
   ]
  },
  {
   "cell_type": "code",
   "execution_count": 35,
   "id": "9f06064b-f2e8-4e39-9014-6c5b03984c30",
   "metadata": {},
   "outputs": [
    {
     "name": "stderr",
     "output_type": "stream",
     "text": [
      "Parameter 'function'=<function SFTTrainer._prepare_non_packed_dataloader.<locals>.tokenize at 0x7f69f1441da0> of the transform datasets.arrow_dataset.Dataset._map_single couldn't be hashed properly, a random hash was used instead. Make sure your transforms and parameters are serializable with pickle or dill for the dataset fingerprinting and caching to work. If you reuse this transform, the caching mechanism will consider it to be different from the previous calls and recompute everything. This warning is only showed once. Subsequent hashing failures won't be showed.\n"
     ]
    },
    {
     "data": {
      "application/vnd.jupyter.widget-view+json": {
       "model_id": "f3e495cfe3694acd8615ae93a68aef08",
       "version_major": 2,
       "version_minor": 0
      },
      "text/plain": [
       "Map:   0%|          | 0/407194 [00:00<?, ? examples/s]"
      ]
     },
     "metadata": {},
     "output_type": "display_data"
    }
   ],
   "source": [
    "trainer = SFTTrainer(\n",
    "    model = codegen,\n",
    "    tokenizer = codegen_tokenizer,\n",
    "    train_dataset = dataset,\n",
    "    args = SFTConfig(\n",
    "        per_device_train_batch_size = 1,\n",
    "        gradient_accumulation_steps = 8,\n",
    "        dataset_text_field = \"text\",\n",
    "        max_seq_length = MAX_SEQ_LENGTH, \n",
    "        num_train_epochs = NUM_TRAIN_EPOCHS,\n",
    "        learning_rate = 2e-4,\n",
    "        fp16 = True,\n",
    "        bf16 = False,\n",
    "        logging_steps = 2000,\n",
    "        save_steps = 10000,\n",
    "        optim = \"adamw_torch\",\n",
    "        weight_decay = 0.01,\n",
    "        lr_scheduler_type = \"linear\",\n",
    "        seed = 3407,\n",
    "        output_dir = \"outputs\",\n",
    "    ),\n",
    ")"
   ]
  },
  {
   "cell_type": "code",
   "execution_count": 36,
   "id": "1fb3cca0-77fc-4584-9122-ff9c887196b9",
   "metadata": {},
   "outputs": [
    {
     "data": {
      "text/html": [
       "\n",
       "    <div>\n",
       "      \n",
       "      <progress value='203596' max='203596' style='width:300px; height:20px; vertical-align: middle;'></progress>\n",
       "      [203596/203596 33:33:54, Epoch 3/4]\n",
       "    </div>\n",
       "    <table border=\"1\" class=\"dataframe\">\n",
       "  <thead>\n",
       " <tr style=\"text-align: left;\">\n",
       "      <th>Step</th>\n",
       "      <th>Training Loss</th>\n",
       "    </tr>\n",
       "  </thead>\n",
       "  <tbody>\n",
       "    <tr>\n",
       "      <td>2000</td>\n",
       "      <td>0.306200</td>\n",
       "    </tr>\n",
       "    <tr>\n",
       "      <td>4000</td>\n",
       "      <td>0.306900</td>\n",
       "    </tr>\n",
       "    <tr>\n",
       "      <td>6000</td>\n",
       "      <td>0.310000</td>\n",
       "    </tr>\n",
       "    <tr>\n",
       "      <td>8000</td>\n",
       "      <td>0.305600</td>\n",
       "    </tr>\n",
       "    <tr>\n",
       "      <td>10000</td>\n",
       "      <td>0.305800</td>\n",
       "    </tr>\n",
       "    <tr>\n",
       "      <td>12000</td>\n",
       "      <td>0.303100</td>\n",
       "    </tr>\n",
       "    <tr>\n",
       "      <td>14000</td>\n",
       "      <td>0.297400</td>\n",
       "    </tr>\n",
       "    <tr>\n",
       "      <td>16000</td>\n",
       "      <td>0.307500</td>\n",
       "    </tr>\n",
       "    <tr>\n",
       "      <td>18000</td>\n",
       "      <td>0.300100</td>\n",
       "    </tr>\n",
       "    <tr>\n",
       "      <td>20000</td>\n",
       "      <td>0.299900</td>\n",
       "    </tr>\n",
       "    <tr>\n",
       "      <td>22000</td>\n",
       "      <td>0.301300</td>\n",
       "    </tr>\n",
       "    <tr>\n",
       "      <td>24000</td>\n",
       "      <td>0.295100</td>\n",
       "    </tr>\n",
       "    <tr>\n",
       "      <td>26000</td>\n",
       "      <td>0.294400</td>\n",
       "    </tr>\n",
       "    <tr>\n",
       "      <td>28000</td>\n",
       "      <td>0.295600</td>\n",
       "    </tr>\n",
       "    <tr>\n",
       "      <td>30000</td>\n",
       "      <td>0.293100</td>\n",
       "    </tr>\n",
       "    <tr>\n",
       "      <td>32000</td>\n",
       "      <td>0.288300</td>\n",
       "    </tr>\n",
       "    <tr>\n",
       "      <td>34000</td>\n",
       "      <td>0.291400</td>\n",
       "    </tr>\n",
       "    <tr>\n",
       "      <td>36000</td>\n",
       "      <td>0.291000</td>\n",
       "    </tr>\n",
       "    <tr>\n",
       "      <td>38000</td>\n",
       "      <td>0.294200</td>\n",
       "    </tr>\n",
       "    <tr>\n",
       "      <td>40000</td>\n",
       "      <td>0.290400</td>\n",
       "    </tr>\n",
       "    <tr>\n",
       "      <td>42000</td>\n",
       "      <td>0.292700</td>\n",
       "    </tr>\n",
       "    <tr>\n",
       "      <td>44000</td>\n",
       "      <td>0.293600</td>\n",
       "    </tr>\n",
       "    <tr>\n",
       "      <td>46000</td>\n",
       "      <td>0.294400</td>\n",
       "    </tr>\n",
       "    <tr>\n",
       "      <td>48000</td>\n",
       "      <td>0.290600</td>\n",
       "    </tr>\n",
       "    <tr>\n",
       "      <td>50000</td>\n",
       "      <td>0.292200</td>\n",
       "    </tr>\n",
       "    <tr>\n",
       "      <td>52000</td>\n",
       "      <td>0.282100</td>\n",
       "    </tr>\n",
       "    <tr>\n",
       "      <td>54000</td>\n",
       "      <td>0.276500</td>\n",
       "    </tr>\n",
       "    <tr>\n",
       "      <td>56000</td>\n",
       "      <td>0.280000</td>\n",
       "    </tr>\n",
       "    <tr>\n",
       "      <td>58000</td>\n",
       "      <td>0.276100</td>\n",
       "    </tr>\n",
       "    <tr>\n",
       "      <td>60000</td>\n",
       "      <td>0.278000</td>\n",
       "    </tr>\n",
       "    <tr>\n",
       "      <td>62000</td>\n",
       "      <td>0.277100</td>\n",
       "    </tr>\n",
       "    <tr>\n",
       "      <td>64000</td>\n",
       "      <td>0.280800</td>\n",
       "    </tr>\n",
       "    <tr>\n",
       "      <td>66000</td>\n",
       "      <td>0.270600</td>\n",
       "    </tr>\n",
       "    <tr>\n",
       "      <td>68000</td>\n",
       "      <td>0.276500</td>\n",
       "    </tr>\n",
       "    <tr>\n",
       "      <td>70000</td>\n",
       "      <td>0.273800</td>\n",
       "    </tr>\n",
       "    <tr>\n",
       "      <td>72000</td>\n",
       "      <td>0.276200</td>\n",
       "    </tr>\n",
       "    <tr>\n",
       "      <td>74000</td>\n",
       "      <td>0.274200</td>\n",
       "    </tr>\n",
       "    <tr>\n",
       "      <td>76000</td>\n",
       "      <td>0.282400</td>\n",
       "    </tr>\n",
       "    <tr>\n",
       "      <td>78000</td>\n",
       "      <td>0.272800</td>\n",
       "    </tr>\n",
       "    <tr>\n",
       "      <td>80000</td>\n",
       "      <td>0.273000</td>\n",
       "    </tr>\n",
       "    <tr>\n",
       "      <td>82000</td>\n",
       "      <td>0.279000</td>\n",
       "    </tr>\n",
       "    <tr>\n",
       "      <td>84000</td>\n",
       "      <td>0.273400</td>\n",
       "    </tr>\n",
       "    <tr>\n",
       "      <td>86000</td>\n",
       "      <td>0.271500</td>\n",
       "    </tr>\n",
       "    <tr>\n",
       "      <td>88000</td>\n",
       "      <td>0.269500</td>\n",
       "    </tr>\n",
       "    <tr>\n",
       "      <td>90000</td>\n",
       "      <td>0.270400</td>\n",
       "    </tr>\n",
       "    <tr>\n",
       "      <td>92000</td>\n",
       "      <td>0.275600</td>\n",
       "    </tr>\n",
       "    <tr>\n",
       "      <td>94000</td>\n",
       "      <td>0.274400</td>\n",
       "    </tr>\n",
       "    <tr>\n",
       "      <td>96000</td>\n",
       "      <td>0.270300</td>\n",
       "    </tr>\n",
       "    <tr>\n",
       "      <td>98000</td>\n",
       "      <td>0.267600</td>\n",
       "    </tr>\n",
       "    <tr>\n",
       "      <td>100000</td>\n",
       "      <td>0.273200</td>\n",
       "    </tr>\n",
       "    <tr>\n",
       "      <td>102000</td>\n",
       "      <td>0.270700</td>\n",
       "    </tr>\n",
       "    <tr>\n",
       "      <td>104000</td>\n",
       "      <td>0.256900</td>\n",
       "    </tr>\n",
       "    <tr>\n",
       "      <td>106000</td>\n",
       "      <td>0.253500</td>\n",
       "    </tr>\n",
       "    <tr>\n",
       "      <td>108000</td>\n",
       "      <td>0.257200</td>\n",
       "    </tr>\n",
       "    <tr>\n",
       "      <td>110000</td>\n",
       "      <td>0.259500</td>\n",
       "    </tr>\n",
       "    <tr>\n",
       "      <td>112000</td>\n",
       "      <td>0.257300</td>\n",
       "    </tr>\n",
       "    <tr>\n",
       "      <td>114000</td>\n",
       "      <td>0.258300</td>\n",
       "    </tr>\n",
       "    <tr>\n",
       "      <td>116000</td>\n",
       "      <td>0.254200</td>\n",
       "    </tr>\n",
       "    <tr>\n",
       "      <td>118000</td>\n",
       "      <td>0.258900</td>\n",
       "    </tr>\n",
       "    <tr>\n",
       "      <td>120000</td>\n",
       "      <td>0.252600</td>\n",
       "    </tr>\n",
       "    <tr>\n",
       "      <td>122000</td>\n",
       "      <td>0.257700</td>\n",
       "    </tr>\n",
       "    <tr>\n",
       "      <td>124000</td>\n",
       "      <td>0.254300</td>\n",
       "    </tr>\n",
       "    <tr>\n",
       "      <td>126000</td>\n",
       "      <td>0.253300</td>\n",
       "    </tr>\n",
       "    <tr>\n",
       "      <td>128000</td>\n",
       "      <td>0.257800</td>\n",
       "    </tr>\n",
       "    <tr>\n",
       "      <td>130000</td>\n",
       "      <td>0.255900</td>\n",
       "    </tr>\n",
       "    <tr>\n",
       "      <td>132000</td>\n",
       "      <td>0.257800</td>\n",
       "    </tr>\n",
       "    <tr>\n",
       "      <td>134000</td>\n",
       "      <td>0.256700</td>\n",
       "    </tr>\n",
       "    <tr>\n",
       "      <td>136000</td>\n",
       "      <td>0.253700</td>\n",
       "    </tr>\n",
       "    <tr>\n",
       "      <td>138000</td>\n",
       "      <td>0.256300</td>\n",
       "    </tr>\n",
       "    <tr>\n",
       "      <td>140000</td>\n",
       "      <td>0.256900</td>\n",
       "    </tr>\n",
       "    <tr>\n",
       "      <td>142000</td>\n",
       "      <td>0.257800</td>\n",
       "    </tr>\n",
       "    <tr>\n",
       "      <td>144000</td>\n",
       "      <td>0.256700</td>\n",
       "    </tr>\n",
       "    <tr>\n",
       "      <td>146000</td>\n",
       "      <td>0.253900</td>\n",
       "    </tr>\n",
       "    <tr>\n",
       "      <td>148000</td>\n",
       "      <td>0.253500</td>\n",
       "    </tr>\n",
       "    <tr>\n",
       "      <td>150000</td>\n",
       "      <td>0.251800</td>\n",
       "    </tr>\n",
       "    <tr>\n",
       "      <td>152000</td>\n",
       "      <td>0.254000</td>\n",
       "    </tr>\n",
       "    <tr>\n",
       "      <td>154000</td>\n",
       "      <td>0.246500</td>\n",
       "    </tr>\n",
       "    <tr>\n",
       "      <td>156000</td>\n",
       "      <td>0.239700</td>\n",
       "    </tr>\n",
       "    <tr>\n",
       "      <td>158000</td>\n",
       "      <td>0.243600</td>\n",
       "    </tr>\n",
       "    <tr>\n",
       "      <td>160000</td>\n",
       "      <td>0.238100</td>\n",
       "    </tr>\n",
       "    <tr>\n",
       "      <td>162000</td>\n",
       "      <td>0.240100</td>\n",
       "    </tr>\n",
       "    <tr>\n",
       "      <td>164000</td>\n",
       "      <td>0.235700</td>\n",
       "    </tr>\n",
       "    <tr>\n",
       "      <td>166000</td>\n",
       "      <td>0.236500</td>\n",
       "    </tr>\n",
       "    <tr>\n",
       "      <td>168000</td>\n",
       "      <td>0.236200</td>\n",
       "    </tr>\n",
       "    <tr>\n",
       "      <td>170000</td>\n",
       "      <td>0.237300</td>\n",
       "    </tr>\n",
       "    <tr>\n",
       "      <td>172000</td>\n",
       "      <td>0.235200</td>\n",
       "    </tr>\n",
       "    <tr>\n",
       "      <td>174000</td>\n",
       "      <td>0.236300</td>\n",
       "    </tr>\n",
       "    <tr>\n",
       "      <td>176000</td>\n",
       "      <td>0.236100</td>\n",
       "    </tr>\n",
       "    <tr>\n",
       "      <td>178000</td>\n",
       "      <td>0.240500</td>\n",
       "    </tr>\n",
       "    <tr>\n",
       "      <td>180000</td>\n",
       "      <td>0.236000</td>\n",
       "    </tr>\n",
       "    <tr>\n",
       "      <td>182000</td>\n",
       "      <td>0.233100</td>\n",
       "    </tr>\n",
       "    <tr>\n",
       "      <td>184000</td>\n",
       "      <td>0.236000</td>\n",
       "    </tr>\n",
       "    <tr>\n",
       "      <td>186000</td>\n",
       "      <td>0.233600</td>\n",
       "    </tr>\n",
       "    <tr>\n",
       "      <td>188000</td>\n",
       "      <td>0.233700</td>\n",
       "    </tr>\n",
       "    <tr>\n",
       "      <td>190000</td>\n",
       "      <td>0.229300</td>\n",
       "    </tr>\n",
       "    <tr>\n",
       "      <td>192000</td>\n",
       "      <td>0.232500</td>\n",
       "    </tr>\n",
       "    <tr>\n",
       "      <td>194000</td>\n",
       "      <td>0.231500</td>\n",
       "    </tr>\n",
       "    <tr>\n",
       "      <td>196000</td>\n",
       "      <td>0.235500</td>\n",
       "    </tr>\n",
       "    <tr>\n",
       "      <td>198000</td>\n",
       "      <td>0.229200</td>\n",
       "    </tr>\n",
       "    <tr>\n",
       "      <td>200000</td>\n",
       "      <td>0.227500</td>\n",
       "    </tr>\n",
       "    <tr>\n",
       "      <td>202000</td>\n",
       "      <td>0.233100</td>\n",
       "    </tr>\n",
       "  </tbody>\n",
       "</table><p>"
      ],
      "text/plain": [
       "<IPython.core.display.HTML object>"
      ]
     },
     "metadata": {},
     "output_type": "display_data"
    },
    {
     "data": {
      "text/plain": [
       "TrainOutput(global_step=203596, training_loss=0.26583422234363835, metrics={'train_runtime': 120835.6494, 'train_samples_per_second': 13.479, 'train_steps_per_second': 1.685, 'total_flos': 1.776886760206762e+18, 'train_loss': 0.26583422234363835, 'epoch': 3.9999803533450886})"
      ]
     },
     "execution_count": 36,
     "metadata": {},
     "output_type": "execute_result"
    }
   ],
   "source": [
    "trainer.train()"
   ]
  },
  {
   "cell_type": "raw",
   "id": "154a593d-47a8-4030-9e42-f432ffb58b8a",
   "metadata": {},
   "source": []
  }
 ],
 "metadata": {
  "kernelspec": {
   "display_name": "Python 3 (ipykernel)",
   "language": "python",
   "name": "python3"
  },
  "language_info": {
   "codemirror_mode": {
    "name": "ipython",
    "version": 3
   },
   "file_extension": ".py",
   "mimetype": "text/x-python",
   "name": "python",
   "nbconvert_exporter": "python",
   "pygments_lexer": "ipython3",
   "version": "3.12.5"
  }
 },
 "nbformat": 4,
 "nbformat_minor": 5
}
