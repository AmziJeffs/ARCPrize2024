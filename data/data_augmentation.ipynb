{
 "cells": [
  {
   "cell_type": "code",
   "execution_count": 12,
   "id": "37be0934-8e52-4373-980a-181155c6fe9d",
   "metadata": {},
   "outputs": [],
   "source": [
    "import numpy as np\n",
    "import pandas as pd\n",
    "\n",
    "import os\n",
    "import json\n",
    "from pathlib import Path\n",
    "\n",
    "import matplotlib.pyplot as plt\n",
    "from matplotlib import colors\n",
    "import numpy as np\n",
    "from pathlib import Path\n",
    "\n",
    "from copy import deepcopy\n",
    "\n",
    "data_path = Path('')\n",
    "train_path = data_path / 'arc-agi_training_challenges.json'\n",
    "train_sols_path = data_path / 'arc-agi_training_solutions.json'\n",
    "eval_path = data_path / 'arc-agi_evaluation_challenges.json'\n",
    "eval_sols_path = data_path / 'arc-agi_evaluation_solutions.json'"
   ]
  },
  {
   "cell_type": "code",
   "execution_count": 19,
   "id": "6828a4ae-ee31-4931-bfb8-3cee86ade303",
   "metadata": {},
   "outputs": [],
   "source": [
    "with open(train_path, 'r') as f:\n",
    "    train_tasks = json.load(f)\n",
    "with open(train_sols_path, 'r') as f:\n",
    "    train_sols = json.load(f)\n",
    "with open(eval_path, 'r') as f:\n",
    "    eval_tasks = json.load(f)\n",
    "with open(eval_sols_path, 'r') as f:\n",
    "    eval_sols = json.load(f)"
   ]
  },
  {
   "cell_type": "code",
   "execution_count": 57,
   "id": "c42bb733-2605-425e-8f4a-9ef4ab720b01",
   "metadata": {},
   "outputs": [],
   "source": [
    "# Rotates a grid 90 degrees right\n",
    "def rotate(grid):\n",
    "    return [list(reversed(col)) for col in zip(*grid)]\n",
    "\n",
    "# Mirrors a grid over a vertical line\n",
    "def mirror(grid):\n",
    "    return [list(reversed(row)) for row in grid]\n",
    "\n",
    "# Eight dihedral symmetries\n",
    "transformations = [\"\", \"r\", \"rr\", \"rrr\", \"m\", \"mr\", \"mrr\", \"mrrr\"]\n",
    "\n",
    "def apply_transformation(grid, transformation):\n",
    "    for op in transformation:\n",
    "        if op == \"r\":\n",
    "            grid = rotate(grid)\n",
    "        if op == \"m\":\n",
    "            grid = mirror(grid)\n",
    "    return grid"
   ]
  },
  {
   "cell_type": "code",
   "execution_count": 58,
   "id": "96508137-b71d-43d1-8195-098b123dfca4",
   "metadata": {},
   "outputs": [],
   "source": [
    "# Augments tasks and solutions using the eight dihedral symmetries\n",
    "def dihedral_augment(tasks, sols):\n",
    "    augmented_tasks = {}\n",
    "    augmented_sols = {}\n",
    "    \n",
    "    for key in tasks:\n",
    "        for transformation in transformations:\n",
    "            new_key = key + \"_\" + transformation\n",
    "            new_task = deepcopy(tasks[key])\n",
    "            new_sol = deepcopy(sols[key])\n",
    "            num_train = len(new_task['train'])\n",
    "            num_test = len(new_task['test'])\n",
    "            for i in range(num_train):\n",
    "                new_task['train'][i]['input'] = apply_transformation(new_task['train'][i]['input'], transformation)\n",
    "                new_task['train'][i]['output'] = apply_transformation(new_task['train'][i]['output'], transformation)\n",
    "            for i in range(num_test):\n",
    "                new_task['test'][i]['input'] = apply_transformation(new_task['test'][i]['input'], transformation)\n",
    "                new_sol[i] = apply_transformation(new_sol[i], transformation)\n",
    "            augmented_tasks[new_key] = new_task\n",
    "            augmented_sols[new_key] = new_sol\n",
    "            \n",
    "    return augmented_tasks, augmented_sols"
   ]
  },
  {
   "cell_type": "code",
   "execution_count": 59,
   "id": "627bbb06-9a9e-42d7-b355-efdbee4ff826",
   "metadata": {},
   "outputs": [],
   "source": [
    "augmented_train_tasks, augmented_train_sols = dihedral_augment(train_tasks, train_sols)"
   ]
  },
  {
   "cell_type": "code",
   "execution_count": 61,
   "id": "d5b86b62-76ff-49c1-9c3b-3e421fba4723",
   "metadata": {},
   "outputs": [],
   "source": [
    "with open('dihedral_augmented_arc-agi_training_challenges.json', 'w') as f:\n",
    "    json.dump(augmented_train_tasks, f)"
   ]
  },
  {
   "cell_type": "code",
   "execution_count": 62,
   "id": "cce1219b-683f-4d31-b17c-b98f034a6b53",
   "metadata": {},
   "outputs": [],
   "source": [
    "with open('dihedral_augmented_arc-agi_training_solutions.json', 'w') as f:\n",
    "    json.dump(augmented_train_sols, f)"
   ]
  },
  {
   "cell_type": "code",
   "execution_count": null,
   "id": "22a623c7-8e68-4b36-a81f-c1c13f53949c",
   "metadata": {},
   "outputs": [],
   "source": []
  }
 ],
 "metadata": {
  "kernelspec": {
   "display_name": "Python 3 (ipykernel)",
   "language": "python",
   "name": "python3"
  },
  "language_info": {
   "codemirror_mode": {
    "name": "ipython",
    "version": 3
   },
   "file_extension": ".py",
   "mimetype": "text/x-python",
   "name": "python",
   "nbconvert_exporter": "python",
   "pygments_lexer": "ipython3",
   "version": "3.12.5"
  }
 },
 "nbformat": 4,
 "nbformat_minor": 5
}
