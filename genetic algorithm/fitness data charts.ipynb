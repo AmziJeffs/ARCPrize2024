{
 "cells": [
  {
   "cell_type": "code",
   "execution_count": 1,
   "id": "49b43a9a-ede6-46f4-b814-13821fd45135",
   "metadata": {},
   "outputs": [],
   "source": [
    "import json\n",
    "import pandas as pd\n",
    "import numpy as np\n",
    "import matplotlib.pyplot as plt\n",
    "import seaborn as sns"
   ]
  },
  {
   "cell_type": "code",
   "execution_count": 9,
   "id": "d80eadfd-0036-4dc8-b02f-1e8efb565e9e",
   "metadata": {},
   "outputs": [],
   "source": [
    "with open(\"fitness data/baseline_solvers_vs_eval.json\", \"r\") as f:\n",
    "    baseline_fitnesses = json.load(f)\n",
    "with open(\"fitness data/first_pass_v3_generation.json\", \"r\") as f:\n",
    "    first_pass = json.load(f)"
   ]
  },
  {
   "cell_type": "code",
   "execution_count": 10,
   "id": "8884d3ab-0330-4ffc-af21-cf26421a73fe",
   "metadata": {},
   "outputs": [],
   "source": [
    "task_labels = [entry[0] for entry in baseline_fitnesses]"
   ]
  },
  {
   "cell_type": "code",
   "execution_count": 14,
   "id": "70d9a5e6-0e2e-48cd-973c-95600acbe978",
   "metadata": {},
   "outputs": [
    {
     "data": {
      "text/plain": [
       "0.0"
      ]
     },
     "execution_count": 14,
     "metadata": {},
     "output_type": "execute_result"
    }
   ],
   "source": [
    "baseline_fitnesses[0][1][0][1]"
   ]
  },
  {
   "cell_type": "code",
   "execution_count": 17,
   "id": "3a37324b-5cb6-4e46-9897-35ea3d58dc06",
   "metadata": {},
   "outputs": [],
   "source": [
    "D = {label: [] for label in task_labels}\n",
    "for entry in baseline_fitnesses:\n",
    "    D[entry[0]].append(entry[1][0][1])\n",
    "for entry in first_pass:\n",
    "    D[entry[0]].append(entry[1][0][1])"
   ]
  },
  {
   "cell_type": "code",
   "execution_count": 26,
   "id": "2b310369-53ff-4486-b943-3e18517c9da7",
   "metadata": {},
   "outputs": [],
   "source": [
    "best_fitnesses = pd.DataFrame.from_dict(D, orient = 'index')\n",
    "best_fitnesses.columns = ['baseline', 'fp']"
   ]
  },
  {
   "cell_type": "code",
   "execution_count": 28,
   "id": "0fe8a922-0513-43db-9c24-cf72d765f78b",
   "metadata": {},
   "outputs": [],
   "source": [
    "best_fitnesses['diff'] = best_fitnesses['baseline'] - best_fitnesses['fp']"
   ]
  },
  {
   "cell_type": "code",
   "execution_count": 30,
   "id": "8ffec88d-7376-4aa6-ad9b-1f0ac998a8c5",
   "metadata": {},
   "outputs": [
    {
     "data": {
      "text/html": [
       "<div>\n",
       "<style scoped>\n",
       "    .dataframe tbody tr th:only-of-type {\n",
       "        vertical-align: middle;\n",
       "    }\n",
       "\n",
       "    .dataframe tbody tr th {\n",
       "        vertical-align: top;\n",
       "    }\n",
       "\n",
       "    .dataframe thead th {\n",
       "        text-align: right;\n",
       "    }\n",
       "</style>\n",
       "<table border=\"1\" class=\"dataframe\">\n",
       "  <thead>\n",
       "    <tr style=\"text-align: right;\">\n",
       "      <th></th>\n",
       "      <th>baseline</th>\n",
       "      <th>fp</th>\n",
       "      <th>diff</th>\n",
       "    </tr>\n",
       "  </thead>\n",
       "  <tbody>\n",
       "    <tr>\n",
       "      <th>14754a24</th>\n",
       "      <td>0.024656</td>\n",
       "      <td>0.018082</td>\n",
       "      <td>0.006574</td>\n",
       "    </tr>\n",
       "    <tr>\n",
       "      <th>60a26a3e</th>\n",
       "      <td>0.040102</td>\n",
       "      <td>0.025890</td>\n",
       "      <td>0.014212</td>\n",
       "    </tr>\n",
       "    <tr>\n",
       "      <th>0607ce86</th>\n",
       "      <td>0.041696</td>\n",
       "      <td>0.039960</td>\n",
       "      <td>0.001736</td>\n",
       "    </tr>\n",
       "    <tr>\n",
       "      <th>32e9702f</th>\n",
       "      <td>0.066230</td>\n",
       "      <td>0.039890</td>\n",
       "      <td>0.026340</td>\n",
       "    </tr>\n",
       "    <tr>\n",
       "      <th>12997ef3</th>\n",
       "      <td>0.285579</td>\n",
       "      <td>0.250851</td>\n",
       "      <td>0.034728</td>\n",
       "    </tr>\n",
       "    <tr>\n",
       "      <th>1a6449f1</th>\n",
       "      <td>0.396403</td>\n",
       "      <td>0.367245</td>\n",
       "      <td>0.029158</td>\n",
       "    </tr>\n",
       "  </tbody>\n",
       "</table>\n",
       "</div>"
      ],
      "text/plain": [
       "          baseline        fp      diff\n",
       "14754a24  0.024656  0.018082  0.006574\n",
       "60a26a3e  0.040102  0.025890  0.014212\n",
       "0607ce86  0.041696  0.039960  0.001736\n",
       "32e9702f  0.066230  0.039890  0.026340\n",
       "12997ef3  0.285579  0.250851  0.034728\n",
       "1a6449f1  0.396403  0.367245  0.029158"
      ]
     },
     "execution_count": 30,
     "metadata": {},
     "output_type": "execute_result"
    }
   ],
   "source": [
    "best_fitnesses[best_fitnesses['diff'] > 0]"
   ]
  },
  {
   "cell_type": "markdown",
   "id": "8bf82a62-a233-435d-9834-b4414462153e",
   "metadata": {},
   "source": [
    "**Abysmal!** Only six were improved by first pass. However, we only generated 50 solvers per task from CodeGen"
   ]
  },
  {
   "cell_type": "code",
   "execution_count": 34,
   "id": "bdadf91a-f39e-4af5-8a2b-d7ffb82ab62c",
   "metadata": {},
   "outputs": [
    {
     "data": {
      "image/png": "[encoded data removed]",
      "text/plain": [
       "<Figure size 640x480 with 1 Axes>"
      ]
     },
     "metadata": {},
     "output_type": "display_data"
    }
   ],
   "source": [
    "plt.hist(best_fitnesses['diff'], bins = 50)\n",
    "plt.show()"
   ]
  },
  {
   "cell_type": "markdown",
   "id": "be2f58fc-2de1-4434-973c-052c06472e29",
   "metadata": {},
   "source": [
    "Mostly the first pass doesn't get too much worse"
   ]
  },
  {
   "cell_type": "code",
   "execution_count": 35,
   "id": "86a6b96b-f07d-4978-95ed-943ca8a79143",
   "metadata": {},
   "outputs": [
    {
     "data": {
      "text/plain": [
       "50"
      ]
     },
     "execution_count": 35,
     "metadata": {},
     "output_type": "execute_result"
    }
   ],
   "source": [
    "sum(best_fitnesses['diff'] == 0)"
   ]
  },
  {
   "cell_type": "markdown",
   "id": "0cb539e2-d62b-470e-9061-9355c6ac3a7a",
   "metadata": {},
   "source": [
    "For 50 tasks, we exactly matched the baseline"
   ]
  },
  {
   "cell_type": "code",
   "execution_count": 40,
   "id": "43b1dbe0-2bc8-4c76-8321-1a7a1def51be",
   "metadata": {},
   "outputs": [
    {
     "data": {
      "text/html": [
       "<div>\n",
       "<style scoped>\n",
       "    .dataframe tbody tr th:only-of-type {\n",
       "        vertical-align: middle;\n",
       "    }\n",
       "\n",
       "    .dataframe tbody tr th {\n",
       "        vertical-align: top;\n",
       "    }\n",
       "\n",
       "    .dataframe thead th {\n",
       "        text-align: right;\n",
       "    }\n",
       "</style>\n",
       "<table border=\"1\" class=\"dataframe\">\n",
       "  <thead>\n",
       "    <tr style=\"text-align: right;\">\n",
       "      <th></th>\n",
       "      <th>baseline</th>\n",
       "      <th>fp</th>\n",
       "      <th>diff</th>\n",
       "    </tr>\n",
       "  </thead>\n",
       "  <tbody>\n",
       "    <tr>\n",
       "      <th>c663677b</th>\n",
       "      <td>0.000000</td>\n",
       "      <td>0.075285</td>\n",
       "      <td>-0.075285</td>\n",
       "    </tr>\n",
       "    <tr>\n",
       "      <th>e95e3d8e</th>\n",
       "      <td>0.000000</td>\n",
       "      <td>0.079552</td>\n",
       "      <td>-0.079552</td>\n",
       "    </tr>\n",
       "    <tr>\n",
       "      <th>60c09cac</th>\n",
       "      <td>0.000000</td>\n",
       "      <td>0.302237</td>\n",
       "      <td>-0.302237</td>\n",
       "    </tr>\n",
       "    <tr>\n",
       "      <th>73182012</th>\n",
       "      <td>0.000000</td>\n",
       "      <td>0.399941</td>\n",
       "      <td>-0.399941</td>\n",
       "    </tr>\n",
       "    <tr>\n",
       "      <th>9ddd00f0</th>\n",
       "      <td>0.000000</td>\n",
       "      <td>0.080540</td>\n",
       "      <td>-0.080540</td>\n",
       "    </tr>\n",
       "    <tr>\n",
       "      <th>cd3c21df</th>\n",
       "      <td>0.000000</td>\n",
       "      <td>0.291996</td>\n",
       "      <td>-0.291996</td>\n",
       "    </tr>\n",
       "    <tr>\n",
       "      <th>67b4a34d</th>\n",
       "      <td>0.000000</td>\n",
       "      <td>0.353476</td>\n",
       "      <td>-0.353476</td>\n",
       "    </tr>\n",
       "    <tr>\n",
       "      <th>f4081712</th>\n",
       "      <td>0.000000</td>\n",
       "      <td>0.407452</td>\n",
       "      <td>-0.407452</td>\n",
       "    </tr>\n",
       "    <tr>\n",
       "      <th>070dd51e</th>\n",
       "      <td>0.000000</td>\n",
       "      <td>0.027177</td>\n",
       "      <td>-0.027177</td>\n",
       "    </tr>\n",
       "    <tr>\n",
       "      <th>ca8f78db</th>\n",
       "      <td>0.000000</td>\n",
       "      <td>0.004228</td>\n",
       "      <td>-0.004228</td>\n",
       "    </tr>\n",
       "    <tr>\n",
       "      <th>7039b2d7</th>\n",
       "      <td>0.000000</td>\n",
       "      <td>0.252472</td>\n",
       "      <td>-0.252472</td>\n",
       "    </tr>\n",
       "    <tr>\n",
       "      <th>c7d4e6ad</th>\n",
       "      <td>0.000000</td>\n",
       "      <td>0.056093</td>\n",
       "      <td>-0.056093</td>\n",
       "    </tr>\n",
       "    <tr>\n",
       "      <th>e66aafb8</th>\n",
       "      <td>0.000000</td>\n",
       "      <td>0.549739</td>\n",
       "      <td>-0.549739</td>\n",
       "    </tr>\n",
       "    <tr>\n",
       "      <th>ea9794b1</th>\n",
       "      <td>0.000000</td>\n",
       "      <td>0.295672</td>\n",
       "      <td>-0.295672</td>\n",
       "    </tr>\n",
       "    <tr>\n",
       "      <th>27f8ce4f</th>\n",
       "      <td>0.000000</td>\n",
       "      <td>0.241102</td>\n",
       "      <td>-0.241102</td>\n",
       "    </tr>\n",
       "    <tr>\n",
       "      <th>d56f2372</th>\n",
       "      <td>0.000000</td>\n",
       "      <td>0.266349</td>\n",
       "      <td>-0.266349</td>\n",
       "    </tr>\n",
       "    <tr>\n",
       "      <th>47996f11</th>\n",
       "      <td>0.000000</td>\n",
       "      <td>0.052015</td>\n",
       "      <td>-0.052015</td>\n",
       "    </tr>\n",
       "    <tr>\n",
       "      <th>981571dc</th>\n",
       "      <td>0.000000</td>\n",
       "      <td>0.058051</td>\n",
       "      <td>-0.058051</td>\n",
       "    </tr>\n",
       "    <tr>\n",
       "      <th>af22c60d</th>\n",
       "      <td>0.000000</td>\n",
       "      <td>0.082523</td>\n",
       "      <td>-0.082523</td>\n",
       "    </tr>\n",
       "    <tr>\n",
       "      <th>ea959feb</th>\n",
       "      <td>0.000000</td>\n",
       "      <td>0.036457</td>\n",
       "      <td>-0.036457</td>\n",
       "    </tr>\n",
       "    <tr>\n",
       "      <th>1d0a4b61</th>\n",
       "      <td>0.000000</td>\n",
       "      <td>0.084002</td>\n",
       "      <td>-0.084002</td>\n",
       "    </tr>\n",
       "    <tr>\n",
       "      <th>e1baa8a4</th>\n",
       "      <td>0.000000</td>\n",
       "      <td>0.226817</td>\n",
       "      <td>-0.226817</td>\n",
       "    </tr>\n",
       "    <tr>\n",
       "      <th>50a16a69</th>\n",
       "      <td>0.000000</td>\n",
       "      <td>0.225743</td>\n",
       "      <td>-0.225743</td>\n",
       "    </tr>\n",
       "    <tr>\n",
       "      <th>506d28a5</th>\n",
       "      <td>0.000000</td>\n",
       "      <td>0.048000</td>\n",
       "      <td>-0.048000</td>\n",
       "    </tr>\n",
       "    <tr>\n",
       "      <th>aa18de87</th>\n",
       "      <td>0.000000</td>\n",
       "      <td>0.147197</td>\n",
       "      <td>-0.147197</td>\n",
       "    </tr>\n",
       "    <tr>\n",
       "      <th>5b6cbef5</th>\n",
       "      <td>0.000000</td>\n",
       "      <td>0.505049</td>\n",
       "      <td>-0.505049</td>\n",
       "    </tr>\n",
       "    <tr>\n",
       "      <th>68b67ca3</th>\n",
       "      <td>0.000000</td>\n",
       "      <td>0.275926</td>\n",
       "      <td>-0.275926</td>\n",
       "    </tr>\n",
       "    <tr>\n",
       "      <th>e7a25a18</th>\n",
       "      <td>0.000000</td>\n",
       "      <td>0.160301</td>\n",
       "      <td>-0.160301</td>\n",
       "    </tr>\n",
       "    <tr>\n",
       "      <th>d017b73f</th>\n",
       "      <td>0.000000</td>\n",
       "      <td>0.229689</td>\n",
       "      <td>-0.229689</td>\n",
       "    </tr>\n",
       "    <tr>\n",
       "      <th>0c9aba6e</th>\n",
       "      <td>0.000000</td>\n",
       "      <td>0.273974</td>\n",
       "      <td>-0.273974</td>\n",
       "    </tr>\n",
       "    <tr>\n",
       "      <th>45bbe264</th>\n",
       "      <td>0.003083</td>\n",
       "      <td>0.135842</td>\n",
       "      <td>-0.132759</td>\n",
       "    </tr>\n",
       "    <tr>\n",
       "      <th>a096bf4d</th>\n",
       "      <td>0.003681</td>\n",
       "      <td>0.003681</td>\n",
       "      <td>0.000000</td>\n",
       "    </tr>\n",
       "    <tr>\n",
       "      <th>0b17323b</th>\n",
       "      <td>0.006110</td>\n",
       "      <td>0.071045</td>\n",
       "      <td>-0.064935</td>\n",
       "    </tr>\n",
       "    <tr>\n",
       "      <th>bb52a14b</th>\n",
       "      <td>0.006487</td>\n",
       "      <td>0.006757</td>\n",
       "      <td>-0.000270</td>\n",
       "    </tr>\n",
       "    <tr>\n",
       "      <th>15113be4</th>\n",
       "      <td>0.007410</td>\n",
       "      <td>0.007410</td>\n",
       "      <td>0.000000</td>\n",
       "    </tr>\n",
       "  </tbody>\n",
       "</table>\n",
       "</div>"
      ],
      "text/plain": [
       "          baseline        fp      diff\n",
       "c663677b  0.000000  0.075285 -0.075285\n",
       "e95e3d8e  0.000000  0.079552 -0.079552\n",
       "60c09cac  0.000000  0.302237 -0.302237\n",
       "73182012  0.000000  0.399941 -0.399941\n",
       "9ddd00f0  0.000000  0.080540 -0.080540\n",
       "cd3c21df  0.000000  0.291996 -0.291996\n",
       "67b4a34d  0.000000  0.353476 -0.353476\n",
       "f4081712  0.000000  0.407452 -0.407452\n",
       "070dd51e  0.000000  0.027177 -0.027177\n",
       "ca8f78db  0.000000  0.004228 -0.004228\n",
       "7039b2d7  0.000000  0.252472 -0.252472\n",
       "c7d4e6ad  0.000000  0.056093 -0.056093\n",
       "e66aafb8  0.000000  0.549739 -0.549739\n",
       "ea9794b1  0.000000  0.295672 -0.295672\n",
       "27f8ce4f  0.000000  0.241102 -0.241102\n",
       "d56f2372  0.000000  0.266349 -0.266349\n",
       "47996f11  0.000000  0.052015 -0.052015\n",
       "981571dc  0.000000  0.058051 -0.058051\n",
       "af22c60d  0.000000  0.082523 -0.082523\n",
       "ea959feb  0.000000  0.036457 -0.036457\n",
       "1d0a4b61  0.000000  0.084002 -0.084002\n",
       "e1baa8a4  0.000000  0.226817 -0.226817\n",
       "50a16a69  0.000000  0.225743 -0.225743\n",
       "506d28a5  0.000000  0.048000 -0.048000\n",
       "aa18de87  0.000000  0.147197 -0.147197\n",
       "5b6cbef5  0.000000  0.505049 -0.505049\n",
       "68b67ca3  0.000000  0.275926 -0.275926\n",
       "e7a25a18  0.000000  0.160301 -0.160301\n",
       "d017b73f  0.000000  0.229689 -0.229689\n",
       "0c9aba6e  0.000000  0.273974 -0.273974\n",
       "45bbe264  0.003083  0.135842 -0.132759\n",
       "a096bf4d  0.003681  0.003681  0.000000\n",
       "0b17323b  0.006110  0.071045 -0.064935\n",
       "bb52a14b  0.006487  0.006757 -0.000270\n",
       "15113be4  0.007410  0.007410  0.000000"
      ]
     },
     "execution_count": 40,
     "metadata": {},
     "output_type": "execute_result"
    }
   ],
   "source": [
    "best_fitnesses.head(35)"
   ]
  },
  {
   "cell_type": "markdown",
   "id": "4bc33803-aeba-46d8-b954-5bfcb7916a08",
   "metadata": {},
   "source": [
    "Concerningly, diff is big even for tasks where a verifier or solver gets fitness 0"
   ]
  },
  {
   "cell_type": "code",
   "execution_count": 42,
   "id": "dd99a10c-55c9-4eae-b9cd-b9428c400386",
   "metadata": {},
   "outputs": [
    {
     "name": "stdout",
     "output_type": "stream",
     "text": [
      "c663677b [['solve_0dfd9992', 0.0], ['solve_29ec7d0e', 0.0], ['solve_484b58aa', 0.0]]\n",
      "e95e3d8e [['solve_0dfd9992', 0.0], ['solve_29ec7d0e', 0.0], ['solve_484b58aa', 0.0]]\n",
      "60c09cac [['solve_b91ae062', 0.0], ['solve_c59eb873', 0.0], ['verify_b91ae062', 0.0]]\n",
      "73182012 [['solve_2013d3e2', 0.0], ['solve_90c28cc7', 0.0], ['verify_2013d3e2', 0.0]]\n",
      "9ddd00f0 [['solve_9d9215db', 0.0], ['solve_b8825c91', 0.0], ['verify_b8825c91', 0.0]]\n",
      "cd3c21df [['solve_ce602527', 0.0], ['verify_0b148d64', 0.0], ['verify_1f85a75f', 0.0]]\n",
      "67b4a34d [['solve_dc0a314f', 0.0], ['verify_dc0a314f', 0.0], ['verify_ff805c23', 0.0]]\n",
      "f4081712 [['solve_dc0a314f', 0.0], ['verify_dc0a314f', 0.0], ['verify_ff805c23', 0.0]]\n",
      "070dd51e [['solve_40853293', 0.0], ['verify_40853293', 0.0], ['solve_1f876c06', 0.0019801980198019802]]\n",
      "ca8f78db [['solve_0dfd9992', 0.0], ['solve_29ec7d0e', 0.0], ['solve_3345333e', 0.004228097236670613]]\n",
      "7039b2d7 [['verify_780d0b14', 0.0], ['verify_9f236235', 0.0], ['solve_1190e5a7', 0.03580246913580246]]\n",
      "c7d4e6ad [['solve_c9f8e694', 0.0], ['verify_c9f8e694', 0.0], ['verify_d687bc17', 0.04443742098609355]]\n",
      "e66aafb8 [['verify_9ecd008a', 0.0], ['verify_ff805c23', 0.0], ['solve_9ecd008a', 0.04914285714285714]]\n",
      "ea9794b1 [['solve_75b8110e', 0.0], ['verify_75b8110e', 0.0], ['solve_c8cbb738', 0.12391692615376826]]\n",
      "27f8ce4f [['solve_c3e719e8', 0.0], ['verify_c3e719e8', 0.0], ['solve_007bbfb7', 0.1997325236244965]]\n",
      "d56f2372 [['solve_72ca375d', 0.0], ['verify_72ca375d', 0.0], ['verify_39a8645d', 0.26634920634920634]]\n",
      "47996f11 [['verify_3631a71a', 0.0], ['verify_73251a56', 0.009752763936691028], ['solve_b1948b0a', 0.02747277116515392]]\n",
      "981571dc [['verify_3631a71a', 0.0], ['solve_73251a56', 0.011438987234988072], ['verify_73251a56', 0.011438987234988072]]\n",
      "af22c60d [['verify_3631a71a', 0.0], ['solve_73251a56', 0.01734915356911201], ['verify_73251a56', 0.018507144891021038]]\n",
      "ea959feb [['verify_c3f564a4', 0.0], ['verify_0dfd9992', 0.023341999917461106], ['verify_29ec7d0e', 0.023341999917461106]]\n",
      "1d0a4b61 [['solve_484b58aa', 0.0], ['solve_9edfc990', 0.024714648688510813], ['solve_a5313dff', 0.024714648688510813]]\n",
      "e1baa8a4 [['verify_90c28cc7', 0.0], ['solve_90c28cc7', 0.02851851851851852], ['solve_780d0b14', 0.12137566137566137]]\n",
      "50a16a69 [['verify_caa06a1f', 0.0], ['solve_caa06a1f', 0.03072463768115942], ['solve_5521c0d9', 0.14363269054178143]]\n",
      "506d28a5 [['verify_ce4f8723', 0.0], ['solve_ce4f8723', 0.048], ['solve_99b1bc43', 0.07871299393038522]]\n",
      "aa18de87 [['verify_a699fb00', 0.0], ['solve_ea32f347', 0.08788017141255157], ['solve_469497ad', 0.10796928370504319]]\n",
      "5b6cbef5 [['verify_007bbfb7', 0.0], ['verify_c3e719e8', 0.12266666666666666], ['verify_cce03e0d', 0.30240627911218504]]\n",
      "68b67ca3 [['verify_90c28cc7', 0.0], ['solve_9f236235', 0.1407070707070707], ['verify_7468f01a', 0.1407070707070707]]\n",
      "e7a25a18 [['verify_6b9890af', 0.0], ['solve_1f85a75f', 0.1603010752688172], ['solve_97a05b5b', 0.1603010752688172]]\n",
      "d017b73f [['solve_234bbc79', 0.0], ['solve_7b7f7511', 0.20070140254548047], ['solve_dae9d2b5', 0.20070140254548047]]\n",
      "0c9aba6e [['verify_1b2d62fb', 0.0], ['solve_fafffa47', 0.2281867057673509], ['verify_6430c8c4', 0.2281867057673509]]\n",
      "45bbe264 [['solve_23581191', 0.003082851637764932], ['verify_23581191', 0.016580310880829015], ['verify_bdad9b1f', 0.07635846089180176]]\n",
      "a096bf4d [['solve_00d62c1b', 0.0036813689662441667], ['solve_150deff5', 0.0036813689662441667], ['solve_1f85a75f', 0.0036813689662441667]]\n",
      "0b17323b [['solve_b230c067', 0.006109940624401455], ['solve_ea32f347', 0.006109940624401455], ['verify_b230c067', 0.006109940624401455]]\n",
      "bb52a14b [['solve_e73095fd', 0.006486724306693094], ['verify_e73095fd', 0.006486724306693094], ['solve_00d62c1b', 0.0067571546485304555]]\n",
      "15113be4 [['solve_150deff5', 0.007410299376371205], ['solve_1f0c79e5', 0.007410299376371205], ['solve_2281f1f4', 0.007410299376371205]]\n"
     ]
    }
   ],
   "source": [
    "for i in range(35):\n",
    "    print(baseline_fitnesses[i][0], baseline_fitnesses[i][1][:3])"
   ]
  },
  {
   "cell_type": "markdown",
   "id": "e946c7a2-2f3f-4352-b4f5-c1630c874e94",
   "metadata": {},
   "source": [
    "The following all have verifiers but not solvers that beat them!"
   ]
  },
  {
   "cell_type": "markdown",
   "id": "8ba1a5db-c511-49bd-8671-aff7a4755dd9",
   "metadata": {},
   "source": [
    "For tasks `7039b2d7`, `e66aafb8`, `47996f11`, `981571dc`, `af22c60d`, `ea959feb`, `e1baa8a4`, `50a16a69`, `506d28a5`, `aa18de87`, `aa18de87`, `5b6cbef5`, ``, ``, ``, ``, ``, ``, ``, "
   ]
  },
  {
   "cell_type": "markdown",
   "id": "9ea431eb-0761-4ce4-a21b-1f50caf96a6d",
   "metadata": {},
   "source": [
    "`7039b2d7`, `e66aafb8`, `47996f11`, `981571dc`, `af22c60d`, `ea959feb`, `e1baa8a4`, `50a16a69`, `506d28a5`, `aa18de87`, `5b6cbef5`, `68b67ca3`, `e7a25a18`, `0c9aba6e`"
   ]
  },
  {
   "cell_type": "code",
   "execution_count": null,
   "id": "c9fadb18-8ff0-4460-bbf7-612707fa258c",
   "metadata": {},
   "outputs": [],
   "source": [
    "\n",
    "\n",
    "\n"
   ]
  },
  {
   "cell_type": "code",
   "execution_count": null,
   "id": "463b8823-084d-4bda-83a7-c66c2e82eff2",
   "metadata": {},
   "outputs": [],
   "source": [
    "\n"
   ]
  },
  {
   "cell_type": "code",
   "execution_count": null,
   "id": "9f0247ed-b904-4ae2-a386-e7d1bb2548f7",
   "metadata": {},
   "outputs": [],
   "source": []
  }
 ],
 "metadata": {
  "kernelspec": {
   "display_name": "Python 3 (ipykernel)",
   "language": "python",
   "name": "python3"
  },
  "language_info": {
   "codemirror_mode": {
    "name": "ipython",
    "version": 3
   },
   "file_extension": ".py",
   "mimetype": "text/x-python",
   "name": "python",
   "nbconvert_exporter": "python",
   "pygments_lexer": "ipython3",
   "version": "3.12.5"
  }
 },
 "nbformat": 4,
 "nbformat_minor": 5
}
