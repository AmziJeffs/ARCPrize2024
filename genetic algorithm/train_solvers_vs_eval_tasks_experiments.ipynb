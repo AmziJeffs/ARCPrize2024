{
 "cells": [
  {
   "cell_type": "code",
   "execution_count": 1,
   "id": "0aa27091-c265-4f40-a666-309827961aa8",
   "metadata": {},
   "outputs": [],
   "source": [
    "import os\n",
    "import sys\n",
    "import json\n",
    "from pathlib import Path\n",
    "from copy import deepcopy\n",
    "import time\n",
    "import inspect\n",
    "\n",
    "from timeout_decorator import timeout\n",
    "\n",
    "import numpy as np\n",
    "import pandas as pd\n",
    "import matplotlib.pyplot as plt\n",
    "from matplotlib import colors\n",
    "from pathlib import Path\n",
    "\n",
    "from tqdm.notebook import tqdm"
   ]
  },
  {
   "cell_type": "code",
   "execution_count": 2,
   "id": "4c79674a-a75d-4023-abfc-27e6dc2f8b28",
   "metadata": {},
   "outputs": [],
   "source": [
    "sys.path.insert(0, '../DSL')\n",
    "import solvers as task_solvers\n",
    "from solver_class import Solver\n",
    "\n",
    "sys.path.insert(0, '../visualization')\n",
    "from visualization_utils import *\n",
    "\n",
    "from fitness_scoring import *"
   ]
  },
  {
   "cell_type": "code",
   "execution_count": 3,
   "id": "6ccb24c9-03af-4306-803d-031411c6c930",
   "metadata": {},
   "outputs": [],
   "source": [
    "data_path = Path('../data')\n",
    "train_path = data_path / 'arc-agi_training_challenges.json'\n",
    "train_sols_path = data_path / 'arc-agi_training_solutions.json'\n",
    "eval_path = data_path / 'arc-agi_evaluation_challenges.json'\n",
    "eval_sols_path = data_path / 'arc-agi_evaluation_solutions.json'\n",
    "re_arc_path = data_path / 're-arc_tasks'"
   ]
  },
  {
   "cell_type": "code",
   "execution_count": 4,
   "id": "67026f9c-762c-48b0-b387-7b9f0d7bf538",
   "metadata": {},
   "outputs": [],
   "source": [
    "with open(train_path, 'r') as f:\n",
    "    train_tasks = json.load(f)\n",
    "with open(train_sols_path, 'r') as f:\n",
    "    train_sols = json.load(f)\n",
    "with open(eval_path, 'r') as f:\n",
    "    eval_tasks = json.load(f)\n",
    "with open(eval_sols_path, 'r') as f:\n",
    "    eval_sols = json.load(f)\n",
    "train_task_labels = sorted(train_tasks.keys())\n",
    "eval_task_labels = sorted(eval_tasks.keys())"
   ]
  },
  {
   "cell_type": "code",
   "execution_count": 5,
   "id": "77fee53c-04ba-4166-a20d-b8488e878d47",
   "metadata": {},
   "outputs": [],
   "source": [
    "ast = lambda g: tuple(tuple(r) for r in g) # Converts grid to tuple format for DSL\n",
    "asg = lambda t: list(list(r) for r in t) # Convert tuple back to grid\n",
    "\n",
    "# Convert all train and eval examples to tuples for DSL\n",
    "for train_label in train_task_labels:\n",
    "    num_train = len(train_tasks[train_label]['train']) \n",
    "    num_test = len(train_tasks[train_label]['test'])\n",
    "    for i in range(num_train):\n",
    "        train_tasks[train_label]['train'][i]['input'] = ast(train_tasks[train_label]['train'][i]['input'])\n",
    "        train_tasks[train_label]['train'][i]['output'] = ast(train_tasks[train_label]['train'][i]['output'])\n",
    "    for i in range(num_test):\n",
    "        train_tasks[train_label]['test'][i]['input'] = ast(train_tasks[train_label]['test'][i]['input'])\n",
    "        train_sols[train_label][i] = ast(train_sols[train_label][i])\n",
    "for eval_label in eval_task_labels:\n",
    "    num_train = len(eval_tasks[eval_label]['train']) \n",
    "    num_test = len(eval_tasks[eval_label]['test'])\n",
    "    for i in range(num_train):\n",
    "        eval_tasks[eval_label]['train'][i]['input'] = ast(eval_tasks[eval_label]['train'][i]['input'])\n",
    "        eval_tasks[eval_label]['train'][i]['output'] = ast(eval_tasks[eval_label]['train'][i]['output'])\n",
    "    for i in range(num_test):\n",
    "        eval_tasks[eval_label]['test'][i]['input'] = ast(eval_tasks[eval_label]['test'][i]['input'])\n",
    "        eval_sols[eval_label][i] = ast(eval_sols[eval_label][i])"
   ]
  },
  {
   "cell_type": "code",
   "execution_count": 6,
   "id": "1eb7afe0-06bd-4698-97fd-d29f31e57034",
   "metadata": {},
   "outputs": [],
   "source": [
    "solver_functions = [Solver(inspect.getsource(getattr(task_solvers, f\"solve_{label}\"))) for label in train_task_labels]"
   ]
  },
  {
   "cell_type": "code",
   "execution_count": 7,
   "id": "c1fc3960-d1d8-4ae7-82be-2bbdf75cb4b0",
   "metadata": {},
   "outputs": [],
   "source": [
    "#del solver_functions['a64e4611'] # Extremely slow solver\n",
    "#train_task_labels.remove('a64e4611')"
   ]
  },
  {
   "cell_type": "code",
   "execution_count": null,
   "id": "b31fc54f-80b2-4e4c-8d1c-5e9dfa937f8e",
   "metadata": {},
   "outputs": [],
   "source": [
    "train_scoring_results = {}\n",
    "test_scoring_results = {}\n",
    "\n",
    "for label in tqdm(eval_task_labels):\n",
    "    task = eval_tasks[label]\n",
    "    num_train = len(task['train'])\n",
    "    num_test = len(task['test'])\n",
    "    train_results = {}\n",
    "    test_results = {}\n",
    "\n",
    "    train_pairs = [{'input': task['train'][i]['input'],\n",
    "                    'output': task['train'][i]['output']}\n",
    "                   for i in range(num_train)]\n",
    "\n",
    "    scoring_results = score_solvers_vs_tasks(solver_functions, train_pairs, scoring_functions, solver_timeout = 0.5)\n",
    "    scoring_results = {solver_name: score for solver_name, score in scoring_results.items() if score != None}\n",
    "\n",
    "    # Record the solvers that had the top 5 scores    \n",
    "    top_5 = sorted(scoring_results.items(), key = lambda x: x[1])[:5]\n",
    "    train_scoring_results[label] = top_5"
   ]
  },
  {
   "cell_type": "code",
   "execution_count": null,
   "id": "49d1ffc0-5aab-4a76-adc8-7f61d52e95b2",
   "metadata": {},
   "outputs": [],
   "source": [
    "sorted(train_scoring_results.items(), key = lambda x: [x[1][i][1] for i in range(5)])"
   ]
  },
  {
   "cell_type": "code",
   "execution_count": null,
   "id": "9d50d65c-b331-4d20-ad44-2f40cd6ea4be",
   "metadata": {},
   "outputs": [],
   "source": []
  }
 ],
 "metadata": {
  "kernelspec": {
   "display_name": "Python 3 (ipykernel)",
   "language": "python",
   "name": "python3"
  },
  "language_info": {
   "codemirror_mode": {
    "name": "ipython",
    "version": 3
   },
   "file_extension": ".py",
   "mimetype": "text/x-python",
   "name": "python",
   "nbconvert_exporter": "python",
   "pygments_lexer": "ipython3",
   "version": "3.12.5"
  }
 },
 "nbformat": 4,
 "nbformat_minor": 5
}
